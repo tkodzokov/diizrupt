{
 "cells": [
  {
   "cell_type": "code",
   "execution_count": 27,
   "id": "11cfdc83-cd07-4eb3-b05e-f0ac2e995598",
   "metadata": {},
   "outputs": [],
   "source": [
    "# import json\n",
    "# import pandas as pd"
   ]
  },
  {
   "cell_type": "code",
   "execution_count": null,
   "id": "00bd13e8-d9ef-4a19-b75c-587c6131aef9",
   "metadata": {},
   "outputs": [],
   "source": []
  },
  {
   "cell_type": "markdown",
   "id": "ddadb5f7-33f8-4cd7-83f5-37ebbee55beb",
   "metadata": {},
   "source": [
    "https://github.com/langchain-ai/langgraph-supervisor-py"
   ]
  },
  {
   "cell_type": "markdown",
   "id": "2fa09a68-f4e2-4ffe-a973-987284f5fbdb",
   "metadata": {},
   "source": [
    "https://langchain-ai.github.io/langgraph/tutorials/multi_agent/agent_supervisor/"
   ]
  },
  {
   "cell_type": "code",
   "execution_count": 28,
   "id": "7e10bfdb-d089-42fc-a018-e3b6ac307973",
   "metadata": {},
   "outputs": [],
   "source": [
    "# pip install --upgrade langgraph-supervisor"
   ]
  },
  {
   "cell_type": "markdown",
   "id": "12a9706b-546f-425f-9e24-b51a19b45641",
   "metadata": {},
   "source": [
    "### auth"
   ]
  },
  {
   "cell_type": "code",
   "execution_count": null,
   "id": "0079eac8-5fea-4dfd-8ed9-c18d64d24f29",
   "metadata": {},
   "outputs": [],
   "source": []
  },
  {
   "cell_type": "markdown",
   "id": "2dbfd4e2-d21c-4f03-bf4f-7aa5d71f39da",
   "metadata": {},
   "source": [
    "dIIzpurt токен"
   ]
  },
  {
   "cell_type": "code",
   "execution_count": 29,
   "id": "3b1185e7-2283-485a-9b26-79ffc17ce7fc",
   "metadata": {},
   "outputs": [],
   "source": [
    "auth_project='=='"
   ]
  },
  {
   "cell_type": "code",
   "execution_count": null,
   "id": "7262d627-255f-42e8-81c3-c2f73b1b4b00",
   "metadata": {},
   "outputs": [],
   "source": []
  },
  {
   "cell_type": "markdown",
   "id": "0a06e4ab-c27a-48d0-a083-bac2b8fdaffa",
   "metadata": {},
   "source": [
    "мой токен"
   ]
  },
  {
   "cell_type": "code",
   "execution_count": 30,
   "id": "7a19f7ff-957d-409f-99da-2061c6168381",
   "metadata": {},
   "outputs": [],
   "source": [
    "auth_personal='=='"
   ]
  },
  {
   "cell_type": "code",
   "execution_count": null,
   "id": "bec22617-d3dd-4036-9b79-9aa540234f9d",
   "metadata": {},
   "outputs": [],
   "source": []
  },
  {
   "cell_type": "markdown",
   "id": "eebe6227-d562-44a5-bfb2-480004f83ac3",
   "metadata": {},
   "source": [
    "### базовые LLM"
   ]
  },
  {
   "cell_type": "code",
   "execution_count": 31,
   "id": "b38fb415-65fe-4130-a5e0-6c3ea6230560",
   "metadata": {},
   "outputs": [],
   "source": [
    "from langchain_gigachat import GigaChat\n",
    "\n",
    "from langchain_core.messages import HumanMessage, SystemMessage\n",
    "\n",
    "model_lite = GigaChat(credentials=auth_personal, verify_ssl_certs=False,\n",
    "               profanity_check=False, model='GigaChat',\n",
    "               temperature=0.00)\n",
    "\n",
    "model_pro = GigaChat(credentials=auth_project, verify_ssl_certs=False,\n",
    "               profanity_check=False, model='GigaChat-Pro',\n",
    "               temperature=0.00)\n",
    "\n",
    "model_max = GigaChat(credentials=auth_project, verify_ssl_certs=False,\n",
    "               profanity_check=False, model='GigaChat-Max',\n",
    "               temperature=0.00)\n",
    "\n",
    "llm_db = GigaChat(credentials=auth_project, verify_ssl_certs=False,\n",
    "               profanity_check=False, model='GigaChat-Max',\n",
    "               temperature=0.00)"
   ]
  },
  {
   "cell_type": "code",
   "execution_count": null,
   "id": "36556603-0da7-4afe-884e-6dfdc868d339",
   "metadata": {},
   "outputs": [],
   "source": []
  },
  {
   "cell_type": "markdown",
   "id": "2d3d204c-8263-4c3f-aed6-8adfd8d9c126",
   "metadata": {},
   "source": [
    "### SQLDatabase Для Агента1"
   ]
  },
  {
   "cell_type": "code",
   "execution_count": null,
   "id": "28a21341-e5e3-4b4b-b8c5-3d4ff1171e45",
   "metadata": {},
   "outputs": [],
   "source": []
  },
  {
   "cell_type": "markdown",
   "id": "41d06053-1cb0-4d2a-a03a-8984c455544e",
   "metadata": {},
   "source": [
    "### Промпт"
   ]
  },
  {
   "cell_type": "code",
   "execution_count": 32,
   "id": "eb5b8b01-482e-4b0c-ac37-ca3d7ca84c8a",
   "metadata": {},
   "outputs": [],
   "source": [
    "from langchain_core.prompts import PromptTemplate\n",
    "\n",
    "template = '''You are a SQLite expert. Given an input question, first create a syntactically correct SQLite query to run,\n",
    "then look at the results of the query and return the answer.\n",
    "\n",
    "Выводи в ответе ТОЛЬКО SQL запрос.\n",
    "\n",
    "Если не уточняется, выведи первые {top_k} строк.\n",
    "\n",
    "Only use the following tables:\n",
    "{table_info}.\n",
    "\n",
    "Используй следующую информацию о таблицах:\n",
    "application: информация о заявках на ипотеку\n",
    "client: информация о клиентах, подававших заявки на ипотеку. Клиенты с client_num=0 - основные заемщики. 1, 2 и т.д. - созаемщики\n",
    "decision: информация о принятом решении по кредиту. 1 - ипотека одобрена, 0 - отклонена\n",
    "product: справочник категорий ипотечных продуктов\n",
    "subproduct: справочник подкатегорий ипотечных продуктов\n",
    "application_category: к какой категории относятся заемщики\n",
    "channel: справочник каналов, по которым пришел заемщик\n",
    "reject_rule: справочник причин отказов\n",
    "territory_bank: справочник территориальных банков\n",
    "\n",
    "Учитывай, что на вопросы, связанные с одобрением заявок необходимо делать join на таблицу decision\n",
    "\n",
    "Question: {input}'''\n",
    "\n",
    "tables = [\n",
    "    \"application\",\n",
    "    \"client\",\n",
    "    \"decision\",\n",
    "    \"product\",\n",
    "    \"subproduct\",\n",
    "    \"application_category\",\n",
    "    \"channel\",\n",
    "    \"reject_rule\",\n",
    "    \"territory_bank\"\n",
    "]\n",
    "\n",
    "prompt_db = PromptTemplate.from_template(template, table_info=tables)"
   ]
  },
  {
   "cell_type": "code",
   "execution_count": null,
   "id": "5af67694-1283-4aec-8c91-dc581c7f435f",
   "metadata": {},
   "outputs": [],
   "source": []
  },
  {
   "cell_type": "code",
   "execution_count": null,
   "id": "ce1cc56f-4585-46e6-aa4e-dd9c6617b66b",
   "metadata": {},
   "outputs": [],
   "source": []
  },
  {
   "cell_type": "code",
   "execution_count": 33,
   "id": "ac287d9c-43d9-4b0c-9db7-8bf475950965",
   "metadata": {},
   "outputs": [],
   "source": [
    "db_path = 'db_mortgage.db'\n",
    "import sqlite3\n",
    "\n",
    "conn = sqlite3.connect(db_path)\n",
    "cur = conn.cursor()\n",
    "\n",
    "from langchain_community.utilities import SQLDatabase\n",
    "db = SQLDatabase.from_uri(\"sqlite:///\" + db_path)\n",
    "from langchain.chat_models.gigachat import GigaChat\n",
    "\n",
    "\n",
    "from langchain.chains import create_sql_query_chain\n",
    "chain_db = create_sql_query_chain(llm_db, db, prompt=prompt_db)"
   ]
  },
  {
   "cell_type": "code",
   "execution_count": null,
   "id": "3c020b13-4ecc-4bc4-b367-a989c4e3e029",
   "metadata": {},
   "outputs": [],
   "source": []
  },
  {
   "cell_type": "code",
   "execution_count": null,
   "id": "48bcf336-7ecf-4e7d-aab0-fd06673cae46",
   "metadata": {},
   "outputs": [],
   "source": []
  },
  {
   "cell_type": "markdown",
   "id": "b4487583-4c83-4ae7-9f79-8dd222e65812",
   "metadata": {},
   "source": [
    "# Строим граф"
   ]
  },
  {
   "cell_type": "code",
   "execution_count": 34,
   "id": "f521caab-76c1-40d7-aefc-c3cb881a07b5",
   "metadata": {},
   "outputs": [],
   "source": [
    "from langgraph_supervisor import create_supervisor\n",
    "from langgraph.prebuilt import create_react_agent"
   ]
  },
  {
   "cell_type": "markdown",
   "id": "b6aedfa6-d5c4-4487-adc2-343408a7ed66",
   "metadata": {},
   "source": [
    "### Create specialized agents"
   ]
  },
  {
   "cell_type": "code",
   "execution_count": 35,
   "id": "a7115c5e-0ad7-4c4f-8ae2-b46207c3c76d",
   "metadata": {},
   "outputs": [],
   "source": [
    "def database_func(user_question: str) -> str:\n",
    "    \"\"\"На основе заданного вопроса сформируй SQL запрос, выполни и ответь на поставленный вопрос\"\"\"\n",
    "    print('+'*100)\n",
    "    print(user_question)\n",
    "    response = chain_db.invoke({\"question\": user_question})\n",
    "    print(response)\n",
    "\n",
    "    response_table = db.run(response[7:-5], include_columns=True)\n",
    "    \n",
    "    print(response_table)\n",
    "    \n",
    "    aaa = model_pro.invoke(\n",
    "        \"Я приведу тебе: \" + \n",
    "        \"1. Вопрос пользователя \" + \n",
    "        \"2. SQL запрос, который был сформирован чтобы ответить на вопрос пользователя. \" + \n",
    "        \"3. Ответ базы данных на этот SQL запрос. \" + \n",
    "        \"Сопоставь вопрос пользователя с ответом ответ БД и напиши текстом, как бы человек ответил на изначально поставленный запрос пользователя. \" + \n",
    "        \"Итак: \" + \n",
    "        \"1. Вопрос пользователя: \" + user_question + \n",
    "        \"2. SQL запрос: \" + response[7:-5] + \n",
    "        \"3. Ответ базы данных: \" + db.run(response[7:-5]) + \n",
    "        \" . Приведи только ответ пользователя от его лица\"\n",
    "        )\n",
    "    \n",
    "    print(aaa.content)\n",
    "    # df = pd.read_sql_query(response[7:-5], conn)\n",
    "    # print(df)\n",
    "    print('+'*100)\n",
    "    answer = aaa.content + '. Данные на которых получен ответ: ' + response_table\n",
    "    print(answer)\n",
    "    return answer\n",
    "\n",
    "database_agent = create_react_agent(\n",
    "    model=model_pro,\n",
    "    tools=[database_func],\n",
    "    name=\"database_expert\",\n",
    "    # prompt=\"You are agent who interact with Database to answer questions. ALWAYS use tool for tasks\"\n",
    "    prompt=\"\"\"Ты агент, который взаимодействует с Базой данных по ипотечным заявкам для ответа на пользовательские вопросы. \n",
    "    ВСЕГДА используй для работы tools. Результат работы tools возвращай агенту-руководителю ответ целиком как есть, НЕ СОКРАЩАЙ ОТВЕТ и не добавляй ничего\"\"\"\n",
    "\n",
    ")\n",
    "\n",
    "# Create supervisor workflow\n",
    "workflow = create_supervisor(\n",
    "    [database_agent],\n",
    "    model=model_max,\n",
    "    prompt=(\n",
    "        \"Ты агент-руководитель, который управляет агентом database_expert\"\n",
    "        \"Перенаправляй получаемые от пользователя вопросы агенту database_agent целиком как есть. \"\n",
    "        \"Результат работы database_agent верни пользователю целиком как есть, сам ничего не выдумывай, не добавляй и не отрезай от ответа\"\n",
    "    )\n",
    ")"
   ]
  },
  {
   "cell_type": "code",
   "execution_count": 36,
   "id": "03afd30f-d3c6-4700-a9e7-76d54675ec69",
   "metadata": {},
   "outputs": [],
   "source": [
    "# workflow = create_supervisor(\n",
    "    \n",
    "#     # [research_agent, math_agent, database_agent],\n",
    "#     [database_agent],\n",
    "#     # output_mode=\"full_history\",\n",
    "#     model=model_max,    # не менять\n",
    "#     prompt=(\n",
    "#         \"Ты агент-руководитель, который управляет агентом database_expert\"\n",
    "#         \"Перенаправляй получаемые от пользователя вопросы агенту database_agent как есть. \"\n",
    "#         \"Результат работы database_agent верни пользователю, сам ничего не выдумывай и не добавляй\"\n",
    "#     )\n",
    "# )\n",
    "\n",
    "\n",
    "# prompt=(\n",
    "#         # \"You are a team supervisor managing a research expert, math expert and database expert.\"\n",
    "#         \"Ты агент-руководитель, который управляет агентом database_expert\"\n",
    "#         \"Перенаправляй получаемые от пользователя вопросы агенту database_agent как есть. \"\n",
    "#         # \"Для фактических вопросов (примеры таких вопросов - 'какой ...', 'Сколько было ...', '  ... приведи в разрезе ...') используй database_agent.\"      \n",
    "#         # \"Все входящие задачи перенаправляй к database_agent как есть.\"\n",
    "#         \"Результат работы database_agent верни пользователю, сам ничего не выдумывай и не добавляй\"\n",
    "#     )"
   ]
  },
  {
   "cell_type": "code",
   "execution_count": 37,
   "id": "7cba0df6-e57a-4bb9-afae-a7df3db86300",
   "metadata": {},
   "outputs": [],
   "source": [
    "# Compile and run\n",
    "app = workflow.compile()"
   ]
  },
  {
   "cell_type": "code",
   "execution_count": null,
   "id": "86afff2a-30e4-49a8-a4bc-c23ef49014ef",
   "metadata": {},
   "outputs": [],
   "source": []
  },
  {
   "cell_type": "code",
   "execution_count": null,
   "id": "2cc05f6b-2000-48c7-a106-338143696a3d",
   "metadata": {},
   "outputs": [],
   "source": []
  },
  {
   "cell_type": "code",
   "execution_count": 38,
   "id": "8b4dd6a0-2cd2-45ac-907d-63a951d60c9a",
   "metadata": {},
   "outputs": [
    {
     "data": {
      "image/png": "[encoded data removed]",
      "text/plain": [
       "<IPython.core.display.Image object>"
      ]
     },
     "metadata": {},
     "output_type": "display_data"
    }
   ],
   "source": [
    "from IPython.display import display, Image\n",
    "display(Image(app.get_graph().draw_mermaid_png()))"
   ]
  },
  {
   "cell_type": "code",
   "execution_count": null,
   "id": "508aad23-3228-49fc-a131-ea3ef93b44ed",
   "metadata": {},
   "outputs": [],
   "source": []
  },
  {
   "cell_type": "markdown",
   "id": "0a90f709-9c08-431f-b21c-a7fff4d98d56",
   "metadata": {},
   "source": [
    "### Вызовы без памяти"
   ]
  },
  {
   "cell_type": "code",
   "execution_count": 42,
   "id": "bd4aa103-dc47-4def-8497-2bd49734d735",
   "metadata": {},
   "outputs": [
    {
     "name": "stdout",
     "output_type": "stream",
     "text": [
      "++++++++++++++++++++++++++++++++++++++++++++++++++++++++++++++++++++++++++++++++++++++++++++++++++++\n",
      "Сравни одобренные заявки мужчинам и женщинам, учитывающий только основных заемщиков\n",
      "```sql\n",
      "SELECT \n",
      "    c.sex,\n",
      "    COUNT(*) AS approved_applications\n",
      "FROM \n",
      "    application a\n",
      "JOIN \n",
      "    decision d ON a.application_num = d.application_num AND d.decision = 1\n",
      "JOIN \n",
      "    client cl ON a.application_num = cl.application_num AND cl.client_num = 0\n",
      "JOIN \n",
      "    application_category ac ON a.application_category_code = ac.application_category_code\n",
      "WHERE \n",
      "    cl.sex IN ('male', 'female')\n",
      "GROUP BY \n",
      "    c.sex;\n",
      "```\n"
     ]
    }
   ],
   "source": [
    "result = app.invoke({\n",
    "    \"messages\": [\n",
    "        {\n",
    "            \"role\": \"user\",\n",
    "            \"content\": \"Сравни одобренные заявки мужчинам и женщинам, учитывый только основных заемщиков\"\n",
    "        }\n",
    "    ]\n",
    "})"
   ]
  },
  {
   "cell_type": "code",
   "execution_count": 43,
   "id": "ccb86876-a3ff-4b66-b395-4abdac2e914b",
   "metadata": {},
   "outputs": [
    {
     "data": {
      "text/plain": [
       "7"
      ]
     },
     "execution_count": 43,
     "metadata": {},
     "output_type": "execute_result"
    }
   ],
   "source": [
    "len(result['messages'])"
   ]
  },
  {
   "cell_type": "code",
   "execution_count": 44,
   "id": "1bf2c4ec-a3a1-4790-b52c-e3ab0a0ea56a",
   "metadata": {},
   "outputs": [
    {
     "name": "stdout",
     "output_type": "stream",
     "text": [
      "content='Сравни одобренные заявки мужчинам и женщинам, учитывый только основных заемщиков' additional_kwargs={} response_metadata={} id='3c1b32f1-e90c-4f9b-939e-1feb0aac1059'\n",
      "====================================================================================================\n",
      "content='' additional_kwargs={'function_call': {'name': 'transfer_to_database_expert', 'arguments': {'query': 'Сравни одобренные заявки мужчинам и женщинам, учитывый только основных заемщиков'}}, 'functions_state_id': '5d53bf8f-2722-47e7-ab82-1afdc6106b24'} response_metadata={'token_usage': {'prompt_tokens': 117, 'completion_tokens': 39, 'total_tokens': 156}, 'model_name': 'GigaChat-Max:1.0.26.20', 'x_headers': {'x-request-id': 'b87b3231-5174-4dba-9906-5e00ec74d5a3', 'x-session-id': '3d191260-1e4b-4eed-b07d-ce7e4f704815', 'x-client-id': None}, 'finish_reason': 'function_call'} name='supervisor' id='b87b3231-5174-4dba-9906-5e00ec74d5a3' tool_calls=[{'name': 'transfer_to_database_expert', 'args': {'query': 'Сравни одобренные заявки мужчинам и женщинам, учитывый только основных заемщиков'}, 'id': 'bc0e228a-f9d4-4877-bb05-89e61fef922c', 'type': 'tool_call'}]\n",
      "====================================================================================================\n",
      "content='Successfully transferred to database_expert' name='transfer_to_database_expert' id='b71651cf-d518-4ae0-9c25-ddfb5b20df33' tool_call_id='bc0e228a-f9d4-4877-bb05-89e61fef922c'\n",
      "====================================================================================================\n",
      "content='Извините, но в базе данных нет столбца \"c.sex\", поэтому я не могу выполнить ваш запрос. Пожалуйста, уточните ваш запрос или предоставьте более подробную информацию.' additional_kwargs={'functions_state_id': '2e9cae53-26f6-4e9d-a9de-aee7291294ba'} response_metadata={'token_usage': {'prompt_tokens': 112, 'completion_tokens': 47, 'total_tokens': 159}, 'model_name': 'GigaChat-Pro:1.0.26.20', 'x_headers': {'x-request-id': '4b0f3e39-90b8-4c74-a641-1cfbc46a4e27', 'x-session-id': 'a96860fd-1301-4bdf-894e-f4624165043f', 'x-client-id': None}, 'finish_reason': 'stop'} name='database_expert' id='4b0f3e39-90b8-4c74-a641-1cfbc46a4e27'\n",
      "====================================================================================================\n",
      "content='Transferring back to supervisor' additional_kwargs={} response_metadata={} name='database_expert' id='80b2e3fa-2f25-4ed4-a967-432da334848d' tool_calls=[{'name': 'transfer_back_to_supervisor', 'args': {}, 'id': '4a4753e3-a7ee-464e-b680-6aa9e857c05b', 'type': 'tool_call'}]\n",
      "====================================================================================================\n",
      "content='Successfully transferred back to supervisor' name='transfer_back_to_supervisor' id='6afa1782-b488-492a-b923-4f6976a045ee' tool_call_id='4a4753e3-a7ee-464e-b680-6aa9e857c05b'\n",
      "====================================================================================================\n",
      "content='Мне жаль, но в нашей базе данных отсутствует информация о поле клиентов. Поэтому я не смогу сравнить одобренные заявки мужчин и женщин. Если у вас есть другие вопросы или вам нужна помощь по другой теме, пожалуйста, дайте знать!' additional_kwargs={'functions_state_id': '283972dc-fe8a-4f40-8e62-a601164634af'} response_metadata={'token_usage': {'prompt_tokens': 64, 'completion_tokens': 51, 'total_tokens': 115}, 'model_name': 'GigaChat-Max:1.0.26.20', 'x_headers': {'x-request-id': '1ad7547b-a19a-487c-a14b-902e8fde1e40', 'x-session-id': 'c3b8207a-78e9-4e7c-a81b-7da6bd892f48', 'x-client-id': None}, 'finish_reason': 'stop'} name='supervisor' id='1ad7547b-a19a-487c-a14b-902e8fde1e40'\n",
      "====================================================================================================\n"
     ]
    }
   ],
   "source": [
    "for i in result['messages']:\n",
    "    print(i)\n",
    "    print('='*100)"
   ]
  },
  {
   "cell_type": "code",
   "execution_count": null,
   "id": "ef84424d-950d-491c-977c-dadb030b1168",
   "metadata": {},
   "outputs": [],
   "source": []
  },
  {
   "cell_type": "code",
   "execution_count": null,
   "id": "6491911c-8d0d-4f20-acda-941bcbc16588",
   "metadata": {},
   "outputs": [],
   "source": []
  },
  {
   "cell_type": "code",
   "execution_count": null,
   "id": "2caeaad6-4718-495b-a52b-03b98b6357a2",
   "metadata": {},
   "outputs": [],
   "source": []
  },
  {
   "cell_type": "markdown",
   "id": "722f99da-a82f-4af5-921e-087855bcd3b7",
   "metadata": {},
   "source": [
    "### Добавляем память"
   ]
  },
  {
   "cell_type": "code",
   "execution_count": 18,
   "id": "a98a0dbd-8cd3-468c-83e9-dbed45170f14",
   "metadata": {},
   "outputs": [],
   "source": [
    "from langgraph.checkpoint.memory import InMemorySaver\n",
    "from langgraph.store.memory import InMemoryStore"
   ]
  },
  {
   "cell_type": "code",
   "execution_count": 19,
   "id": "650cc6b8-4bb9-4a78-96dd-f5427415c4fb",
   "metadata": {},
   "outputs": [],
   "source": [
    "checkpointer = InMemorySaver()\n",
    "# store = InMemoryStore()"
   ]
  },
  {
   "cell_type": "code",
   "execution_count": 20,
   "id": "7707dd94-8284-4194-a90c-5e4c152a7b7a",
   "metadata": {},
   "outputs": [],
   "source": [
    "config = {\"configurable\": {\"thread_id\": \"8\"}}"
   ]
  },
  {
   "cell_type": "code",
   "execution_count": null,
   "id": "97b9b2cd-8c18-4903-9738-3b8d28ed239e",
   "metadata": {},
   "outputs": [],
   "source": []
  },
  {
   "cell_type": "code",
   "execution_count": null,
   "id": "6917f25f-9e02-4d9c-94c4-a39fb4a6cd60",
   "metadata": {},
   "outputs": [],
   "source": []
  },
  {
   "cell_type": "code",
   "execution_count": 24,
   "id": "4233c56d-d954-4b7e-87ed-19a72bd23044",
   "metadata": {},
   "outputs": [],
   "source": [
    "app = workflow.compile(\n",
    "    checkpointer=checkpointer\n",
    ")"
   ]
  },
  {
   "cell_type": "code",
   "execution_count": 25,
   "id": "68b16147-4596-43c3-97b2-d67477945b42",
   "metadata": {},
   "outputs": [
    {
     "name": "stdout",
     "output_type": "stream",
     "text": [
      "++++++++++++++++++++++++++++++++++++++++++++++++++++++++++++++++++++++++++++++++++++++++++++++++++++\n",
      "Есть ли полученных данных по одобренным ипотекам аномалии?\n",
      "```sql\n",
      "SELECT *\n",
      "FROM application a\n",
      "JOIN decision d ON a.application_num = d.application_num\n",
      "WHERE d.decision = 1\n",
      "ORDER BY requested_sum DESC\n",
      "LIMIT 5;\n",
      "```\n",
      "[{'application_num': 4052, 'application_dt': '2024-05-03', 'subproduct_code': 4567, 'application_category_code': 'A', 'channel_code': 7, 'requested_sum': 980469, 'requested_term_month': 298, 'interest_rate': 16.41, 'payment': 2016.51, 'income': 637361, 'liability': 34151, 'initial_payment_rate': 27, 'expected_model_risk': 0.07836, 'territory_bank_code': 10, 'decision': 1, 'reject_rule_code': None}, {'application_num': 4041, 'application_dt': '2024-04-26', 'subproduct_code': 1234, 'application_category_code': 'A', 'channel_code': 20, 'requested_sum': 963860, 'requested_term_month': 210, 'interest_rate': 28.47, 'payment': 4969.22, 'income': 740784, 'liability': 35331, 'initial_payment_rate': 56, 'expected_model_risk': 0.01401, 'territory_bank_code': 19, 'decision': 1, 'reject_rule_code': None}, {'application_num': 4068, 'application_dt': '2024-05-29', 'subproduct_code': 1432, 'application_category_code': 'D', 'channel_code': 1, 'requested_sum': 939258, 'requested_term_month': 132, 'interest_rate': 12.82, 'payment': 1257.18, 'income': 263789, 'liability': 46852, 'initial_payment_rate': 88, 'expected_model_risk': 0.00289, 'territory_bank_code': 16, 'decision': 1, 'reject_rule_code': None}, {'application_num': 4057, 'application_dt': '2024-11-14', 'subproduct_code': 3564, 'application_category_code': 'D', 'channel_code': 7, 'requested_sum': 936448, 'requested_term_month': 164, 'interest_rate': 27.06, 'payment': 4254.55, 'income': 601531, 'liability': 42435, 'initial_payment_rate': 59, 'expected_model_risk': 0.00943, 'territory_bank_code': 16, 'decision': 1, 'reject_rule_code': None}, {'application_num': 4100, 'application_dt': '2024-05-02', 'subproduct_code': 2345, 'application_category_code': 'A', 'channel_code': 1, 'requested_sum': 929153, 'requested_term_month': 15, 'interest_rate': 25.32, 'payment': 4973.15, 'income': 773727, 'liability': 39413, 'initial_payment_rate': 30, 'expected_model_risk': 0.02866, 'territory_bank_code': 18, 'decision': 1, 'reject_rule_code': None}]\n",
      "Нет, в полученных данных по одобренным ипотекам не обнаружено никаких аномалий.\n",
      "++++++++++++++++++++++++++++++++++++++++++++++++++++++++++++++++++++++++++++++++++++++++++++++++++++\n",
      "Нет, в полученных данных по одобренным ипотекам не обнаружено никаких аномалий.. Данные на которых получен ответ: [{'application_num': 4052, 'application_dt': '2024-05-03', 'subproduct_code': 4567, 'application_category_code': 'A', 'channel_code': 7, 'requested_sum': 980469, 'requested_term_month': 298, 'interest_rate': 16.41, 'payment': 2016.51, 'income': 637361, 'liability': 34151, 'initial_payment_rate': 27, 'expected_model_risk': 0.07836, 'territory_bank_code': 10, 'decision': 1, 'reject_rule_code': None}, {'application_num': 4041, 'application_dt': '2024-04-26', 'subproduct_code': 1234, 'application_category_code': 'A', 'channel_code': 20, 'requested_sum': 963860, 'requested_term_month': 210, 'interest_rate': 28.47, 'payment': 4969.22, 'income': 740784, 'liability': 35331, 'initial_payment_rate': 56, 'expected_model_risk': 0.01401, 'territory_bank_code': 19, 'decision': 1, 'reject_rule_code': None}, {'application_num': 4068, 'application_dt': '2024-05-29', 'subproduct_code': 1432, 'application_category_code': 'D', 'channel_code': 1, 'requested_sum': 939258, 'requested_term_month': 132, 'interest_rate': 12.82, 'payment': 1257.18, 'income': 263789, 'liability': 46852, 'initial_payment_rate': 88, 'expected_model_risk': 0.00289, 'territory_bank_code': 16, 'decision': 1, 'reject_rule_code': None}, {'application_num': 4057, 'application_dt': '2024-11-14', 'subproduct_code': 3564, 'application_category_code': 'D', 'channel_code': 7, 'requested_sum': 936448, 'requested_term_month': 164, 'interest_rate': 27.06, 'payment': 4254.55, 'income': 601531, 'liability': 42435, 'initial_payment_rate': 59, 'expected_model_risk': 0.00943, 'territory_bank_code': 16, 'decision': 1, 'reject_rule_code': None}, {'application_num': 4100, 'application_dt': '2024-05-02', 'subproduct_code': 2345, 'application_category_code': 'A', 'channel_code': 1, 'requested_sum': 929153, 'requested_term_month': 15, 'interest_rate': 25.32, 'payment': 4973.15, 'income': 773727, 'liability': 39413, 'initial_payment_rate': 30, 'expected_model_risk': 0.02866, 'territory_bank_code': 18, 'decision': 1, 'reject_rule_code': None}]\n"
     ]
    }
   ],
   "source": [
    "result = app.invoke({\n",
    "    \"messages\": [\n",
    "        {\n",
    "            \"role\": \"user\",\n",
    "            # \"content\": \"Какой средний процент по одобренным ипотекам? Приведи ответ в разрезе по месяцам за последние 6 месяцев\"\n",
    "            \"content\": \"Есть ли полученных данных по одобренным ипотекам аномалии?\"\n",
    "\n",
    "        }\n",
    "    ]\n",
    "}, config=config)"
   ]
  },
  {
   "cell_type": "code",
   "execution_count": null,
   "id": "bedeac54-0c7c-452a-a61d-ae63b5683bef",
   "metadata": {},
   "outputs": [],
   "source": []
  },
  {
   "cell_type": "code",
   "execution_count": null,
   "id": "581f58b7-7311-4df7-a951-88e3f385557a",
   "metadata": {},
   "outputs": [],
   "source": []
  },
  {
   "cell_type": "code",
   "execution_count": 26,
   "id": "cbc2deb7-60f2-449b-8ea6-9db0d181ed20",
   "metadata": {},
   "outputs": [
    {
     "name": "stdout",
     "output_type": "stream",
     "text": [
      "content='Какой средний процент по одобренным ипотекам? Приведи ответ в разрезе по месяцам за последние 6 месяцев' additional_kwargs={} response_metadata={} id='f2fd2dd1-9299-4117-9ba1-245e797658a2'\n",
      "====================================================================================================\n",
      "content='' additional_kwargs={'function_call': {'name': 'transfer_to_database_expert', 'arguments': {'query': 'Какой средний процент по одобренным ипотекам? Приведи ответ в разрезе по месяцам за последние 6 месяцев'}}, 'functions_state_id': '2e82693a-158f-4e48-aab7-f601e127153f'} response_metadata={'token_usage': {'prompt_tokens': 59, 'completion_tokens': 46, 'total_tokens': 105}, 'model_name': 'GigaChat-Max:1.0.26.20', 'x_headers': {'x-request-id': '94da7542-299d-4b89-b94d-b45af583f1cd', 'x-session-id': '7262b15c-a22f-4527-bea1-f316b6f7a2d6', 'x-client-id': None}, 'finish_reason': 'function_call'} name='supervisor' id='94da7542-299d-4b89-b94d-b45af583f1cd' tool_calls=[{'name': 'transfer_to_database_expert', 'args': {'query': 'Какой средний процент по одобренным ипотекам? Приведи ответ в разрезе по месяцам за последние 6 месяцев'}, 'id': '5dacc9e0-be6c-4736-922e-c38c541b8161', 'type': 'tool_call'}]\n",
      "====================================================================================================\n",
      "content='Successfully transferred to database_expert' name='transfer_to_database_expert' id='130b6bbb-abfc-4802-aff0-807de59d82c1' tool_call_id='5dacc9e0-be6c-4736-922e-c38c541b8161'\n",
      "====================================================================================================\n",
      "content='Средний процент по одобренным ипотекам за последние 6 месяцев составил:\\n- Сентябрь 2024 года: 11.99%\\n- Октябрь 2024 года: 15.43%\\n- Ноябрь 2024 года: 18.23%\\n- Декабрь 2024 года: 11.97%\\n- Январь 2025 года: 16.75%\\n- Февраль 2025 года: 20.58%' additional_kwargs={'functions_state_id': 'c8d2edda-e54d-44cf-a6c1-e531968eaa66'} response_metadata={'token_usage': {'prompt_tokens': 698, 'completion_tokens': 133, 'total_tokens': 831}, 'model_name': 'GigaChat-Pro:1.0.26.20', 'x_headers': {'x-request-id': '3197158c-f73a-4764-8a9f-1b6e0fa84172', 'x-session-id': '7e4d5b35-d6fb-4205-bf8b-e88e7857f9ca', 'x-client-id': None}, 'finish_reason': 'stop'} name='database_expert' id='3197158c-f73a-4764-8a9f-1b6e0fa84172'\n",
      "====================================================================================================\n",
      "content='Transferring back to supervisor' additional_kwargs={} response_metadata={} name='database_expert' id='2df65d24-98cc-4897-ac07-797068ee9587' tool_calls=[{'name': 'transfer_back_to_supervisor', 'args': {}, 'id': '7d3e3187-03e8-45e5-bab7-4c8e5f617029', 'type': 'tool_call'}]\n",
      "====================================================================================================\n",
      "content='Successfully transferred back to supervisor' name='transfer_back_to_supervisor' id='de20832c-33bf-4a34-8fcd-5884a27ca93a' tool_call_id='7d3e3187-03e8-45e5-bab7-4c8e5f617029'\n",
      "====================================================================================================\n",
      "content='Средний процент по одобренным ипотекам за последние 6 месяцев составил:\\n- Сентябрь 2024 года: 11.99%\\n- Октябрь 2024 года: 15.43%\\n- Ноябрь 2024 года: 18.23%\\n- Декабрь 2024 года: 11.97%\\n- Январь 2025 года: 16.75%\\n- Февраль 2025 года: 20.58%' additional_kwargs={'functions_state_id': 'b7131bea-750d-4bd4-9ccf-d372a043d581'} response_metadata={'token_usage': {'prompt_tokens': 391, 'completion_tokens': 102, 'total_tokens': 493}, 'model_name': 'GigaChat-Max:1.0.26.20', 'x_headers': {'x-request-id': 'ff54b563-9228-47fe-907a-d4833c584898', 'x-session-id': '3df8aad1-ff16-406d-bfe1-a92772c41c01', 'x-client-id': None}, 'finish_reason': 'stop'} name='supervisor' id='ff54b563-9228-47fe-907a-d4833c584898'\n",
      "====================================================================================================\n",
      "content='Есть ли полученных данных по одобренным ипотекам аномалии?' additional_kwargs={} response_metadata={} id='f978b2e8-882a-4946-a83a-2c5180318ce8'\n",
      "====================================================================================================\n",
      "content='' additional_kwargs={'function_call': {'name': 'transfer_to_database_expert', 'arguments': {'query': 'Есть ли полученных данных по одобренным ипотекам аномалии?'}}, 'functions_state_id': '76adab7d-ad93-46b9-8c18-31cd46d9d0e9'} response_metadata={'token_usage': {'prompt_tokens': 76, 'completion_tokens': 37, 'total_tokens': 113}, 'model_name': 'GigaChat-Max:1.0.26.20', 'x_headers': {'x-request-id': 'a268e82d-b32e-4880-8000-acfca42e2707', 'x-session-id': 'f8f6ca12-ba4d-4a0f-b5fc-34a07ff67189', 'x-client-id': None}, 'finish_reason': 'function_call'} name='supervisor' id='a268e82d-b32e-4880-8000-acfca42e2707' tool_calls=[{'name': 'transfer_to_database_expert', 'args': {'query': 'Есть ли полученных данных по одобренным ипотекам аномалии?'}, 'id': '4cf517d4-2a84-475e-9227-0a255e50a5fd', 'type': 'tool_call'}]\n",
      "====================================================================================================\n",
      "content='Successfully transferred to database_expert' name='transfer_to_database_expert' id='6424ef73-3be4-44fb-ad27-0a4fd5bf79ef' tool_call_id='4cf517d4-2a84-475e-9227-0a255e50a5fd'\n",
      "====================================================================================================\n",
      "content='Нет, в полученных данных по одобренным ипотекам не обнаружено никаких аномалий.' additional_kwargs={'functions_state_id': '77e605ab-b48a-406d-bbbd-03196ac6ae84'} response_metadata={'token_usage': {'prompt_tokens': 1047, 'completion_tokens': 25, 'total_tokens': 1072}, 'model_name': 'GigaChat-Pro:1.0.26.20', 'x_headers': {'x-request-id': '3e3002fd-f50f-4e2f-8970-6fe9d30194d7', 'x-session-id': '1472a919-c129-42a7-961a-829653de65b0', 'x-client-id': None}, 'finish_reason': 'stop'} name='database_expert' id='3e3002fd-f50f-4e2f-8970-6fe9d30194d7'\n",
      "====================================================================================================\n",
      "content='Transferring back to supervisor' additional_kwargs={} response_metadata={} name='database_expert' id='0a938509-61fa-4198-b449-ee7074dcd930' tool_calls=[{'name': 'transfer_back_to_supervisor', 'args': {}, 'id': '7003e6bd-cfb9-41c8-b9c7-f80b4012323b', 'type': 'tool_call'}]\n",
      "====================================================================================================\n",
      "content='Successfully transferred back to supervisor' name='transfer_back_to_supervisor' id='cc53a5a3-b480-44c6-82a9-51c5d75cc42b' tool_call_id='7003e6bd-cfb9-41c8-b9c7-f80b4012323b'\n",
      "====================================================================================================\n",
      "content='В полученных данных по одобренным ипотекам нет никаких аномалий.' additional_kwargs={'functions_state_id': 'e13de078-9855-414d-96fa-944187cdfa99'} response_metadata={'token_usage': {'prompt_tokens': 650, 'completion_tokens': 18, 'total_tokens': 668}, 'model_name': 'GigaChat-Max:1.0.26.20', 'x_headers': {'x-request-id': '34dfca04-9ea3-458c-9d37-20d3ac7f9f12', 'x-session-id': '23b790b6-4876-4581-a606-15bd7b9f3b68', 'x-client-id': None}, 'finish_reason': 'stop'} name='supervisor' id='34dfca04-9ea3-458c-9d37-20d3ac7f9f12'\n",
      "====================================================================================================\n"
     ]
    }
   ],
   "source": [
    "for i in result['messages']:\n",
    "    print(i)\n",
    "    print('='*100)"
   ]
  },
  {
   "cell_type": "code",
   "execution_count": null,
   "id": "49b0f2b3-dba3-4a1a-bb7f-6c0cb032f049",
   "metadata": {},
   "outputs": [],
   "source": []
  },
  {
   "cell_type": "code",
   "execution_count": null,
   "id": "74469c00-c15a-425b-899b-11df26a0e3a2",
   "metadata": {},
   "outputs": [],
   "source": []
  },
  {
   "cell_type": "code",
   "execution_count": null,
   "id": "16880d31-f8c6-4b70-bd22-349695f40637",
   "metadata": {},
   "outputs": [],
   "source": []
  },
  {
   "cell_type": "code",
   "execution_count": null,
   "id": "3821df38-d02b-4793-a679-83e3a932fc61",
   "metadata": {},
   "outputs": [],
   "source": [
    "qqq = '''Средний процент по одобренным ипотекам варьируется от месяца к месяцу. Например, в марте 2024 года он составил 18.925%, в апреле 2024 года — 18.13375%, а в мае 2024 года — 16.60125%.. Данные на которых получен ответ: [{'month': '2024-03', 'average_interest_rate': 18.925}, {'month': '2024-04', 'average_interest_rate': 18.13375}, {'month': '2024-05', 'average_interest_rate': 16.60125}, {'month': '2024-06', 'average_interest_rate': 20.14}, {'month': '2024-07', 'average_interest_rate': 21.1775}, {'month': '2024-08', 'average_interest_rate': 13.62}, {'month': '2024-09', 'average_interest_rate': 11.986666666666666}, {'month': '2024-10', 'average_interest_rate': 15.425}, {'month': '2024-11', 'average_interest_rate': 18.23}, {'month': '2024-12', 'average_interest_rate': 11.97}, {'month': '2025-01', 'average_interest_rate': 16.754444444444445}, {'month': '2025-02', 'average_interest_rate': 20.583333333333332}]'''"
   ]
  },
  {
   "cell_type": "code",
   "execution_count": null,
   "id": "f66fb2a5-b795-4ad8-85ff-11fa166fb952",
   "metadata": {},
   "outputs": [],
   "source": [
    "www = model_max.invoke(input=qqq + '. Есть ли аномалии в этих данных?')"
   ]
  },
  {
   "cell_type": "code",
   "execution_count": null,
   "id": "f182abb7-d189-4187-9c8e-9ca97daf3acf",
   "metadata": {},
   "outputs": [],
   "source": [
    "print(www.content)"
   ]
  },
  {
   "cell_type": "code",
   "execution_count": null,
   "id": "064a7cc4-be57-4ac2-b294-a51c8db5524d",
   "metadata": {},
   "outputs": [],
   "source": []
  },
  {
   "cell_type": "code",
   "execution_count": null,
   "id": "bc35a86b-b5b7-41cc-b22a-e7f7930b0e75",
   "metadata": {},
   "outputs": [],
   "source": []
  },
  {
   "cell_type": "code",
   "execution_count": null,
   "id": "228d215a-c60b-4a09-8b54-03743791a793",
   "metadata": {},
   "outputs": [],
   "source": []
  },
  {
   "cell_type": "markdown",
   "id": "e387010c-a6c4-4d05-ac2a-8b120aff5965",
   "metadata": {},
   "source": [
    "### Сохраняем локально файлы"
   ]
  },
  {
   "cell_type": "code",
   "execution_count": null,
   "id": "23d645b6-5215-4860-8738-fff4eafed2a5",
   "metadata": {},
   "outputs": [],
   "source": [
    "sql = '''SELECT \n",
    "    c.sex, \n",
    "    COUNT(*) AS total_applications, \n",
    "    SUM(d.decision) AS approved_applications, \n",
    "    ROUND(100.0 * SUM(d.decision) / COUNT(*), 2) AS approval_percentage\n",
    "FROM \n",
    "    client c\n",
    "JOIN \n",
    "    decision d ON c.application_num = d.application_num\n",
    "GROUP BY \n",
    "    c.sex;\n",
    "'''"
   ]
  },
  {
   "cell_type": "code",
   "execution_count": null,
   "id": "a32e69a6-e0ee-4322-9bf2-6e682233a578",
   "metadata": {},
   "outputs": [],
   "source": []
  },
  {
   "cell_type": "code",
   "execution_count": null,
   "id": "3f2c33be-f949-4b69-b16e-6309084e970a",
   "metadata": {},
   "outputs": [],
   "source": [
    "# aaa = db.run(sql, include_columns=True)"
   ]
  },
  {
   "cell_type": "code",
   "execution_count": null,
   "id": "e9f79dc4-ac18-4915-bb8c-bcfadee6247d",
   "metadata": {},
   "outputs": [],
   "source": [
    "# print(aaa)"
   ]
  },
  {
   "cell_type": "code",
   "execution_count": null,
   "id": "a5d9a5ae-6d70-471e-8ab4-5796edce33f2",
   "metadata": {},
   "outputs": [],
   "source": [
    "# json.loads(aaa)"
   ]
  },
  {
   "cell_type": "code",
   "execution_count": null,
   "id": "b61220c4-e46d-40e2-a25b-ad47ad1113e6",
   "metadata": {},
   "outputs": [],
   "source": []
  },
  {
   "cell_type": "code",
   "execution_count": null,
   "id": "3395b155-ecaa-430f-90ab-8d110a1248ff",
   "metadata": {},
   "outputs": [],
   "source": [
    "df = pd.read_sql_query(sql, conn)"
   ]
  },
  {
   "cell_type": "code",
   "execution_count": null,
   "id": "f8b63a93-922f-4830-b7a5-63428aa1c063",
   "metadata": {},
   "outputs": [],
   "source": []
  },
  {
   "cell_type": "code",
   "execution_count": null,
   "id": "df9a6355-7aa9-4a40-bfdb-af8cc948ee7c",
   "metadata": {},
   "outputs": [],
   "source": [
    "aaa = df.to_json()"
   ]
  },
  {
   "cell_type": "code",
   "execution_count": null,
   "id": "5ee61e32-aaf0-428a-a37c-bf5241eb9717",
   "metadata": {},
   "outputs": [],
   "source": [
    "type(aaa)"
   ]
  },
  {
   "cell_type": "code",
   "execution_count": null,
   "id": "89b87f66-a28f-4a11-914b-9f11bd1e23de",
   "metadata": {},
   "outputs": [],
   "source": [
    "aaa"
   ]
  },
  {
   "cell_type": "code",
   "execution_count": null,
   "id": "f3269560-4584-4de0-88b3-d6f19a8ba6f0",
   "metadata": {},
   "outputs": [],
   "source": []
  },
  {
   "cell_type": "code",
   "execution_count": null,
   "id": "5b007014-eb85-4393-b2bc-66f683115436",
   "metadata": {},
   "outputs": [],
   "source": []
  },
  {
   "cell_type": "code",
   "execution_count": null,
   "id": "dd1eb96b-725d-4de5-9b9d-2716bde95ed9",
   "metadata": {},
   "outputs": [],
   "source": [
    "print(df)"
   ]
  },
  {
   "cell_type": "code",
   "execution_count": null,
   "id": "4228f378-3283-4570-9fa8-8886d6024fa5",
   "metadata": {},
   "outputs": [],
   "source": [
    "print(df.to_string())"
   ]
  },
  {
   "cell_type": "code",
   "execution_count": null,
   "id": "e96824c9-bcde-4aa0-bc1d-794f849ddf03",
   "metadata": {},
   "outputs": [],
   "source": [
    "вот ответ\n",
    "```\n",
    "      sex  total_applications  approved_applications  approval_percentage\n",
    "0  female                 111                     57                51.35\n",
    "1    male                 105                     59                56.19\n",
    "```"
   ]
  },
  {
   "cell_type": "code",
   "execution_count": null,
   "id": "f1cdff9c-7c99-4705-943f-500af6356770",
   "metadata": {},
   "outputs": [],
   "source": []
  },
  {
   "cell_type": "code",
   "execution_count": null,
   "id": "8411ac06-82ae-4b7e-ae0a-beaefa38130e",
   "metadata": {},
   "outputs": [],
   "source": []
  },
  {
   "cell_type": "code",
   "execution_count": null,
   "id": "5460dce8-93d1-4065-af7a-80a0d7d77285",
   "metadata": {},
   "outputs": [],
   "source": []
  },
  {
   "cell_type": "code",
   "execution_count": null,
   "id": "2dd34569-cd1b-43dc-816b-225a8ee67bd8",
   "metadata": {},
   "outputs": [],
   "source": []
  },
  {
   "cell_type": "code",
   "execution_count": null,
   "id": "008e4de0-09fe-4e50-87f8-69e996624a39",
   "metadata": {},
   "outputs": [],
   "source": [
    "from typing import Annotated\n",
    "\n",
    "# from langchain_core.tools import tool\n",
    "from langchain_experimental.utilities import PythonREPL\n",
    "\n",
    "# Warning: This executes code locally, which can be unsafe when not sandboxed\n",
    "\n",
    "repl = PythonREPL()\n",
    "\n",
    "# @tool\n",
    "def python_repl_tool(\n",
    "    code: Annotated[str, \"The python code to execute to generate your chart.\"],\n",
    "):\n",
    "    \"\"\"Use this to execute python code. If you want to see the output of a value,\n",
    "    you should print it out with `print(...)`. This is visible to the user.\"\"\"\n",
    "    try:\n",
    "        result = repl.run(code)\n",
    "    except BaseException as e:\n",
    "        return f\"Failed to execute. Error: {repr(e)}\"\n",
    "    result_str = f\"Successfully executed:\\n```python\\n{code}\\n```\\nStdout: {result}\"\n",
    "    return (\n",
    "        result_str + \"\\n\\nIf you have completed all tasks, respond with FINAL ANSWER.\"\n",
    "    )\n"
   ]
  },
  {
   "cell_type": "code",
   "execution_count": null,
   "id": "e461259e-e29a-4bda-8014-ddd6351f33ac",
   "metadata": {},
   "outputs": [],
   "source": [
    "chart_agent = create_react_agent(\n",
    "    model_pro,\n",
    "    [python_repl_tool],\n",
    "    prompt=\"Ты - великолепный агент, который умеет только строить графики. На основе полученного вопроса\"\n",
    ")"
   ]
  },
  {
   "cell_type": "code",
   "execution_count": null,
   "id": "b89ea574-c9f4-4b72-9d72-02ac028f06ca",
   "metadata": {},
   "outputs": [],
   "source": []
  },
  {
   "cell_type": "code",
   "execution_count": null,
   "id": "20310566-4309-4ad8-ab99-a3107d8eac95",
   "metadata": {},
   "outputs": [],
   "source": [
    "chart_agent.invoke({\n",
    "    \"messages\": [\n",
    "        {\n",
    "            \"role\": \"user\",\n",
    "            \"content\": \"Построй график - на оси x значения [1, 2, 3], на оси y - [3, 4, 2]\"\n",
    "        }\n",
    "    ]\n",
    "})"
   ]
  },
  {
   "cell_type": "code",
   "execution_count": null,
   "id": "ca3b3b56-2054-401e-beb6-0239216fefd9",
   "metadata": {},
   "outputs": [],
   "source": []
  },
  {
   "cell_type": "code",
   "execution_count": null,
   "id": "79fc056a-d750-417f-b08e-855f5cc599e5",
   "metadata": {},
   "outputs": [],
   "source": []
  },
  {
   "cell_type": "code",
   "execution_count": null,
   "id": "1552adff-2d1d-4852-9002-7933760a6e18",
   "metadata": {},
   "outputs": [],
   "source": []
  },
  {
   "cell_type": "code",
   "execution_count": null,
   "id": "c652fac6-ad99-4655-9d83-d02f5806a125",
   "metadata": {},
   "outputs": [],
   "source": []
  }
 ],
 "metadata": {
  "kernelspec": {
   "display_name": "Python 3 (ipykernel)",
   "language": "python",
   "name": "python3"
  },
  "language_info": {
   "codemirror_mode": {
    "name": "ipython",
    "version": 3
   },
   "file_extension": ".py",
   "mimetype": "text/x-python",
   "name": "python",
   "nbconvert_exporter": "python",
   "pygments_lexer": "ipython3",
   "version": "3.12.3"
  }
 },
 "nbformat": 4,
 "nbformat_minor": 5
}
