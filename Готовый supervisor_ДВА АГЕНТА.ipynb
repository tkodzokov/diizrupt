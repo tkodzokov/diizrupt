{
 "cells": [
  {
   "cell_type": "code",
   "execution_count": 1,
   "id": "11cfdc83-cd07-4eb3-b05e-f0ac2e995598",
   "metadata": {},
   "outputs": [],
   "source": [
    "# import json\n",
    "# import pandas as pd"
   ]
  },
  {
   "cell_type": "markdown",
   "id": "ddadb5f7-33f8-4cd7-83f5-37ebbee55beb",
   "metadata": {},
   "source": [
    "https://github.com/langchain-ai/langgraph-supervisor-py"
   ]
  },
  {
   "cell_type": "markdown",
   "id": "2fa09a68-f4e2-4ffe-a973-987284f5fbdb",
   "metadata": {},
   "source": [
    "https://langchain-ai.github.io/langgraph/tutorials/multi_agent/agent_supervisor/"
   ]
  },
  {
   "cell_type": "code",
   "execution_count": 2,
   "id": "7e10bfdb-d089-42fc-a018-e3b6ac307973",
   "metadata": {},
   "outputs": [],
   "source": [
    "# pip install --upgrade langgraph-supervisor"
   ]
  },
  {
   "cell_type": "markdown",
   "id": "12a9706b-546f-425f-9e24-b51a19b45641",
   "metadata": {},
   "source": [
    "### auth"
   ]
  },
  {
   "cell_type": "markdown",
   "id": "2dbfd4e2-d21c-4f03-bf4f-7aa5d71f39da",
   "metadata": {},
   "source": [
    "dIIzpurt токен"
   ]
  },
  {
   "cell_type": "code",
   "execution_count": 3,
   "id": "3b1185e7-2283-485a-9b26-79ffc17ce7fc",
   "metadata": {},
   "outputs": [],
   "source": [
    "auth_project='=='"
   ]
  },
  {
   "cell_type": "markdown",
   "id": "0a06e4ab-c27a-48d0-a083-bac2b8fdaffa",
   "metadata": {},
   "source": [
    "мой токен"
   ]
  },
  {
   "cell_type": "code",
   "execution_count": 4,
   "id": "7a19f7ff-957d-409f-99da-2061c6168381",
   "metadata": {},
   "outputs": [],
   "source": [
    "auth_personal='=='"
   ]
  },
  {
   "cell_type": "markdown",
   "id": "eebe6227-d562-44a5-bfb2-480004f83ac3",
   "metadata": {},
   "source": [
    "### базовые LLM"
   ]
  },
  {
   "cell_type": "code",
   "execution_count": 5,
   "id": "b38fb415-65fe-4130-a5e0-6c3ea6230560",
   "metadata": {},
   "outputs": [],
   "source": [
    "from langchain_gigachat import GigaChat\n",
    "\n",
    "from langchain_core.messages import HumanMessage, SystemMessage\n",
    "\n",
    "model_lite = GigaChat(credentials=auth_personal, verify_ssl_certs=False,\n",
    "               profanity_check=False, model='GigaChat',\n",
    "               temperature=0.00)\n",
    "\n",
    "model_pro = GigaChat(credentials=auth_project, verify_ssl_certs=False,\n",
    "               profanity_check=False, model='GigaChat-Pro',\n",
    "               temperature=0.00)\n",
    "\n",
    "model_max = GigaChat(credentials=auth_project, verify_ssl_certs=False,\n",
    "               profanity_check=False, model='GigaChat-Max',\n",
    "               temperature=0.00)\n",
    "\n",
    "llm_db = GigaChat(credentials=auth_project, verify_ssl_certs=False,\n",
    "               profanity_check=False, model='GigaChat-Max',\n",
    "               temperature=0.00)"
   ]
  },
  {
   "cell_type": "code",
   "execution_count": null,
   "id": "36556603-0da7-4afe-884e-6dfdc868d339",
   "metadata": {},
   "outputs": [],
   "source": []
  },
  {
   "cell_type": "markdown",
   "id": "2d3d204c-8263-4c3f-aed6-8adfd8d9c126",
   "metadata": {},
   "source": [
    "### SQLDatabase Для Агента1"
   ]
  },
  {
   "cell_type": "markdown",
   "id": "41d06053-1cb0-4d2a-a03a-8984c455544e",
   "metadata": {},
   "source": [
    "### Промпт"
   ]
  },
  {
   "cell_type": "code",
   "execution_count": 6,
   "id": "eb5b8b01-482e-4b0c-ac37-ca3d7ca84c8a",
   "metadata": {},
   "outputs": [],
   "source": [
    "from langchain_core.prompts import PromptTemplate\n",
    "\n",
    "template = '''You are a SQLite expert. Given an input question, first create a syntactically correct SQLite query to run,\n",
    "then look at the results of the query and return the answer.\n",
    "\n",
    "Выводи в ответе ТОЛЬКО SQL запрос.\n",
    "\n",
    "Если не уточняется, выведи первые {top_k} строк.\n",
    "\n",
    "Only use the following tables:\n",
    "{table_info}.\n",
    "\n",
    "Используй следующую информацию о таблицах:\n",
    "application: информация о заявках на ипотеку\n",
    "client: информация о клиентах, подававших заявки на ипотеку. Клиенты с client_num=0 - основные заемщики. 1, 2 и т.д. - созаемщики\n",
    "decision: информация о принятом решении по кредиту. 1 - ипотека одобрена, 0 - отклонена\n",
    "product: справочник категорий ипотечных продуктов\n",
    "subproduct: справочник подкатегорий ипотечных продуктов\n",
    "application_category: к какой категории относятся заемщики\n",
    "channel: справочник каналов, по которым пришел заемщик\n",
    "reject_rule: справочник причин отказов\n",
    "territory_bank: справочник территориальных банков\n",
    "\n",
    "Учитывай, что на вопросы, связанные с одобрением заявок необходимо делать join на таблицу decision\n",
    "\n",
    "Question: {input}'''\n",
    "\n",
    "tables = [\n",
    "    \"application\",\n",
    "    \"client\",\n",
    "    \"decision\",\n",
    "    \"product\",\n",
    "    \"subproduct\",\n",
    "    \"application_category\",\n",
    "    \"channel\",\n",
    "    \"reject_rule\",\n",
    "    \"territory_bank\"\n",
    "]\n",
    "\n",
    "prompt_db = PromptTemplate.from_template(template, table_info=tables)"
   ]
  },
  {
   "cell_type": "code",
   "execution_count": 7,
   "id": "ac287d9c-43d9-4b0c-9db7-8bf475950965",
   "metadata": {},
   "outputs": [],
   "source": [
    "db_path = 'db_mortgage.db'\n",
    "import sqlite3\n",
    "\n",
    "conn = sqlite3.connect(db_path)\n",
    "cur = conn.cursor()\n",
    "\n",
    "from langchain_community.utilities import SQLDatabase\n",
    "db = SQLDatabase.from_uri(\"sqlite:///\" + db_path)\n",
    "from langchain.chat_models.gigachat import GigaChat\n",
    "\n",
    "\n",
    "from langchain.chains import create_sql_query_chain\n",
    "chain_db = create_sql_query_chain(llm_db, db, prompt=prompt_db)"
   ]
  },
  {
   "cell_type": "code",
   "execution_count": null,
   "id": "3c020b13-4ecc-4bc4-b367-a989c4e3e029",
   "metadata": {},
   "outputs": [],
   "source": []
  },
  {
   "cell_type": "code",
   "execution_count": null,
   "id": "48bcf336-7ecf-4e7d-aab0-fd06673cae46",
   "metadata": {},
   "outputs": [],
   "source": []
  },
  {
   "cell_type": "markdown",
   "id": "b4487583-4c83-4ae7-9f79-8dd222e65812",
   "metadata": {},
   "source": [
    "# Строим граф"
   ]
  },
  {
   "cell_type": "code",
   "execution_count": 8,
   "id": "f521caab-76c1-40d7-aefc-c3cb881a07b5",
   "metadata": {},
   "outputs": [],
   "source": [
    "from langgraph_supervisor import create_supervisor\n",
    "from langgraph.prebuilt import create_react_agent"
   ]
  },
  {
   "cell_type": "markdown",
   "id": "b6aedfa6-d5c4-4487-adc2-343408a7ed66",
   "metadata": {},
   "source": [
    "## Create specialized agents"
   ]
  },
  {
   "cell_type": "code",
   "execution_count": null,
   "id": "a2d37541-06aa-4d3c-b8be-7d312f79bf76",
   "metadata": {},
   "outputs": [],
   "source": []
  },
  {
   "cell_type": "markdown",
   "id": "0de0a3b2-ed36-47eb-baa6-8a1e3ddee53b",
   "metadata": {},
   "source": [
    "### Database агент"
   ]
  },
  {
   "cell_type": "code",
   "execution_count": 68,
   "id": "3b7cd400-1fe2-4555-87c6-9c9906909519",
   "metadata": {},
   "outputs": [],
   "source": [
    "def database_func(user_question: str) -> str:\n",
    "    \"\"\"На основе заданного вопроса сформируй SQL запрос, выполни и ответь на поставленный вопрос\"\"\"\n",
    "    print('+'*100)\n",
    "    print(user_question)\n",
    "    response = chain_db.invoke({\"question\": user_question})\n",
    "    print(response)\n",
    "\n",
    "    response_table = db.run(response[7:-5], include_columns=True)\n",
    "    \n",
    "    print(response_table)\n",
    "    \n",
    "    aaa = model_pro.invoke(\n",
    "        \"Я приведу тебе: \" + \n",
    "        \"1. Вопрос пользователя \" + \n",
    "        \"2. SQL запрос, который был сформирован чтобы ответить на вопрос пользователя. \" + \n",
    "        \"3. Ответ базы данных на этот SQL запрос. \" + \n",
    "        \"Сопоставь вопрос пользователя с ответом ответ БД и напиши текстом, как бы человек ответил на изначально поставленный запрос пользователя. \" + \n",
    "        \"Итак: \" + \n",
    "        \"1. Вопрос пользователя: \" + user_question + \n",
    "        \"2. SQL запрос: \" + response[7:-5] + \n",
    "        \"3. Ответ базы данных: \" + db.run(response[7:-5]) + \n",
    "        \" . Приведи только ответ пользователя от его лица\"\n",
    "        )\n",
    "    \n",
    "    print(aaa.content)\n",
    "    # df = pd.read_sql_query(response[7:-5], conn)\n",
    "    # print(df)\n",
    "    print('+'*100)\n",
    "    answer = 'Готово: ' + aaa.content + '. Данные на которых получен ответ: ' + response_table\n",
    "    print(answer)\n",
    "    return answer\n",
    "\n",
    "database_agent = create_react_agent(\n",
    "    model=model_pro,\n",
    "    tools=[database_func],\n",
    "    name=\"database_expert\",\n",
    "    # prompt=\"You are agent who interact with Database to answer questions. ALWAYS use tool for tasks\"\n",
    "    prompt=\"\"\"Ты агент, который взаимодействует с Базой данных по ипотечным заявкам для ответа на пользовательские вопросы. \n",
    "    ВСЕГДА используй для работы tools. Результат работы tools возвращай агенту-руководителю ответ целиком как есть, НЕ СОКРАЩАЙ ОТВЕТ и не добавляй ничего\"\"\"\n",
    "\n",
    ")"
   ]
  },
  {
   "cell_type": "code",
   "execution_count": null,
   "id": "5e3eeb69-910e-4e70-b416-d978d6ab6651",
   "metadata": {},
   "outputs": [],
   "source": []
  },
  {
   "cell_type": "markdown",
   "id": "052eebbe-5c6f-49e5-9f6c-221da6da3eaf",
   "metadata": {},
   "source": [
    "### Агент аналитик"
   ]
  },
  {
   "cell_type": "code",
   "execution_count": 69,
   "id": "7e1737fb-94c5-446a-bd17-a1bceb5ea38c",
   "metadata": {},
   "outputs": [],
   "source": [
    "analyst_agent = create_react_agent(\n",
    "    model=model_pro,\n",
    "    tools=[],\n",
    "    name=\"analyst_expert\",\n",
    "    # prompt=\"You are agent who interact with Database to answer questions. ALWAYS use tool for tasks\"\n",
    "    prompt=\"\"\"Ты высококласный аналитик, который анализирует данные. Ты должен использовать ТОЛЬКО те данные, которые ранее были получены в диалоге.\"\"\"\n",
    ")"
   ]
  },
  {
   "cell_type": "code",
   "execution_count": null,
   "id": "4f5d2206-7790-4ce5-848e-ef9cb93bb957",
   "metadata": {},
   "outputs": [],
   "source": []
  },
  {
   "cell_type": "code",
   "execution_count": null,
   "id": "12e058c3-867b-41ff-a2ef-f357d4ae9c86",
   "metadata": {},
   "outputs": [],
   "source": []
  },
  {
   "cell_type": "code",
   "execution_count": null,
   "id": "0b7265f6-7bae-436c-bb35-4d8e25a81675",
   "metadata": {},
   "outputs": [],
   "source": []
  },
  {
   "cell_type": "code",
   "execution_count": null,
   "id": "f6b04f3b-f7d9-4505-aba7-90c62a203a48",
   "metadata": {},
   "outputs": [],
   "source": []
  },
  {
   "cell_type": "markdown",
   "id": "75d56b9a-7832-468f-bc12-b48a94d2764f",
   "metadata": {},
   "source": [
    "### Агент Supervisor"
   ]
  },
  {
   "cell_type": "code",
   "execution_count": 70,
   "id": "a7115c5e-0ad7-4c4f-8ae2-b46207c3c76d",
   "metadata": {},
   "outputs": [],
   "source": [
    "# Create supervisor workflow\n",
    "workflow = create_supervisor(\n",
    "    [database_agent, analyst_agent],\n",
    "    model=model_max,\n",
    "    prompt=(\n",
    "        \"Ты агент-руководитель, который управляет агентами database_expert и analyst_expert. \"\n",
    "        \"НИ В КОЕМ СЛУЧАЕ не бращайся к database_agent или analyst_expert БОЛЕЕ ОДНОГО РАЗА\"\n",
    "        \n",
    "        \"Ключевые фразы для database_agent: 'сколько', 'какой процент', 'найди', 'выведи', ' ответь в разрезе' \"\n",
    "        \"Ключевые фразы для analyst_agent: 'проанализируй', 'аномалии', 'сделай выводы' \"\n",
    "        \n",
    "        \"Для агента database_agent перенаправляй пользовательские вопросы целиком как есть. \"\n",
    "        \"Результат работы database_agent СРАЗУ верни пользователю целиком как есть, сам ничего не выдумывай, не добавляй и не отрезай от ответа\"\n",
    "        \"НИ В КОЕМ СЛУЧАЕ не обращайся к database_expert более одного раза\"\n",
    "\n",
    "        \"Для агента analyst_agent перенаправляй пользовательские вопросы целиком как есть. \"\n",
    "        \"Результат работы analyst_agent СРАЗУ верни пользователю целиком как есть, сам ничего не выдумывай, не добавляй и не отрезай от ответа\"\n",
    "\n",
    "        \"Заверши workflow, после того как какой-нибудь агент скажет 'Готово ...' \"\n",
    "        \n",
    "    )\n",
    ")"
   ]
  },
  {
   "cell_type": "code",
   "execution_count": null,
   "id": "03afd30f-d3c6-4700-a9e7-76d54675ec69",
   "metadata": {},
   "outputs": [],
   "source": []
  },
  {
   "cell_type": "code",
   "execution_count": 71,
   "id": "7cba0df6-e57a-4bb9-afae-a7df3db86300",
   "metadata": {},
   "outputs": [],
   "source": [
    "# Compile and run\n",
    "app = workflow.compile()"
   ]
  },
  {
   "cell_type": "code",
   "execution_count": null,
   "id": "86afff2a-30e4-49a8-a4bc-c23ef49014ef",
   "metadata": {},
   "outputs": [],
   "source": []
  },
  {
   "cell_type": "code",
   "execution_count": null,
   "id": "2cc05f6b-2000-48c7-a106-338143696a3d",
   "metadata": {},
   "outputs": [],
   "source": []
  },
  {
   "cell_type": "code",
   "execution_count": 42,
   "id": "8b4dd6a0-2cd2-45ac-907d-63a951d60c9a",
   "metadata": {},
   "outputs": [
    {
     "data": {
      "image/png": "[encoded data removed]",
      "text/plain": [
       "<IPython.core.display.Image object>"
      ]
     },
     "metadata": {},
     "output_type": "display_data"
    }
   ],
   "source": [
    "from IPython.display import display, Image\n",
    "display(Image(app.get_graph().draw_mermaid_png()))"
   ]
  },
  {
   "cell_type": "code",
   "execution_count": null,
   "id": "508aad23-3228-49fc-a131-ea3ef93b44ed",
   "metadata": {},
   "outputs": [],
   "source": []
  },
  {
   "cell_type": "markdown",
   "id": "0a90f709-9c08-431f-b21c-a7fff4d98d56",
   "metadata": {},
   "source": [
    "### Вызовы без памяти"
   ]
  },
  {
   "cell_type": "code",
   "execution_count": 72,
   "id": "bd4aa103-dc47-4def-8497-2bd49734d735",
   "metadata": {},
   "outputs": [
    {
     "name": "stdout",
     "output_type": "stream",
     "text": [
      "++++++++++++++++++++++++++++++++++++++++++++++++++++++++++++++++++++++++++++++++++++++++++++++++++++\n",
      "Верни среднюю ставку по одобренным заявкам в разрезе по месяцам за последние пол года\n",
      "```sql\n",
      "SELECT \n",
      "    STRFTIME('%Y-%m', application_dt) AS month, \n",
      "    AVG(interest_rate) AS average_interest_rate\n",
      "FROM \n",
      "    application\n",
      "JOIN \n",
      "    decision ON application.application_num = decision.application_num AND decision.decision = 1\n",
      "WHERE \n",
      "    application_dt >= DATE('now', '-6 months')\n",
      "GROUP BY \n",
      "    STRFTIME('%Y-%m', application_dt);\n",
      "```\n",
      "[{'month': '2024-09', 'average_interest_rate': 11.986666666666666}, {'month': '2024-10', 'average_interest_rate': 15.425}, {'month': '2024-11', 'average_interest_rate': 18.23}, {'month': '2024-12', 'average_interest_rate': 11.97}, {'month': '2025-01', 'average_interest_rate': 16.754444444444445}, {'month': '2025-02', 'average_interest_rate': 20.583333333333332}]\n",
      "Средняя ставка по одобренным заявкам за последние полгода составила 16,75%.\n",
      "++++++++++++++++++++++++++++++++++++++++++++++++++++++++++++++++++++++++++++++++++++++++++++++++++++\n",
      "Готово: Средняя ставка по одобренным заявкам за последние полгода составила 16,75%.. Данные на которых получен ответ: [{'month': '2024-09', 'average_interest_rate': 11.986666666666666}, {'month': '2024-10', 'average_interest_rate': 15.425}, {'month': '2024-11', 'average_interest_rate': 18.23}, {'month': '2024-12', 'average_interest_rate': 11.97}, {'month': '2025-01', 'average_interest_rate': 16.754444444444445}, {'month': '2025-02', 'average_interest_rate': 20.583333333333332}]\n"
     ]
    }
   ],
   "source": [
    "result = app.invoke({\n",
    "    \"messages\": [\n",
    "        {\n",
    "            \"role\": \"user\",\n",
    "            \"content\": \"Верни среднюю ставку по одобренным заявкам в разрезе по месяцам за последние пол года\"\n",
    "        }\n",
    "    ]\n",
    "})"
   ]
  },
  {
   "cell_type": "code",
   "execution_count": 73,
   "id": "ccb86876-a3ff-4b66-b395-4abdac2e914b",
   "metadata": {},
   "outputs": [
    {
     "data": {
      "text/plain": [
       "7"
      ]
     },
     "execution_count": 73,
     "metadata": {},
     "output_type": "execute_result"
    }
   ],
   "source": [
    "len(result['messages'])"
   ]
  },
  {
   "cell_type": "code",
   "execution_count": 74,
   "id": "1bf2c4ec-a3a1-4790-b52c-e3ab0a0ea56a",
   "metadata": {},
   "outputs": [
    {
     "name": "stdout",
     "output_type": "stream",
     "text": [
      "content='Верни среднюю ставку по одобренным заявкам в разрезе по месяцам за последние пол года' additional_kwargs={} response_metadata={} id='e9ef411f-078a-47f4-8b88-769ce510db6b'\n",
      "====================================================================================================\n",
      "content='' additional_kwargs={'function_call': {'name': 'transfer_to_database_expert', 'arguments': {'query': 'Верни среднюю ставку по одобренным заявкам в разрезе по месяцам за последние пол года'}}, 'functions_state_id': '2466a3fc-53fd-4d5b-b906-8b301568ccc5'} response_metadata={'token_usage': {'prompt_tokens': 67, 'completion_tokens': 41, 'total_tokens': 108}, 'model_name': 'GigaChat-Max:1.0.26.20', 'x_headers': {'x-request-id': 'ce4efa8f-cfd6-41b7-9d1e-55a821251dd8', 'x-session-id': 'c2163efc-fabc-4b5f-9663-f3625f60a4d3', 'x-client-id': None}, 'finish_reason': 'function_call'} name='supervisor' id='ce4efa8f-cfd6-41b7-9d1e-55a821251dd8' tool_calls=[{'name': 'transfer_to_database_expert', 'args': {'query': 'Верни среднюю ставку по одобренным заявкам в разрезе по месяцам за последние пол года'}, 'id': '03d8e647-6709-4f74-9b7b-368030893f9f', 'type': 'tool_call'}]\n",
      "====================================================================================================\n",
      "content='Successfully transferred to database_expert' name='transfer_to_database_expert' id='2798900d-b063-4f45-80bf-19f4895359d0' tool_call_id='03d8e647-6709-4f74-9b7b-368030893f9f'\n",
      "====================================================================================================\n",
      "content='Средняя ставка по одобренным заявкам за последние полгода составила 16,75%.' additional_kwargs={'functions_state_id': '2e75823f-1f4a-4873-900e-0c81a8630535'} response_metadata={'token_usage': {'prompt_tokens': 565, 'completion_tokens': 27, 'total_tokens': 592}, 'model_name': 'GigaChat-Pro:1.0.26.20', 'x_headers': {'x-request-id': 'a0778f56-428d-4e5f-846a-47460bf48f06', 'x-session-id': 'f48d10e1-7f03-45e6-b60f-b068a9f9da51', 'x-client-id': None}, 'finish_reason': 'stop'} name='database_expert' id='a0778f56-428d-4e5f-846a-47460bf48f06'\n",
      "====================================================================================================\n",
      "content='Transferring back to supervisor' additional_kwargs={} response_metadata={} name='database_expert' id='40f17fad-cfda-46be-8dae-441a4ee65c9f' tool_calls=[{'name': 'transfer_back_to_supervisor', 'args': {}, 'id': '79d3c70d-e4b3-48ba-bb90-5fb1f3d18914', 'type': 'tool_call'}]\n",
      "====================================================================================================\n",
      "content='Successfully transferred back to supervisor' name='transfer_back_to_supervisor' id='1f7fec37-5bbb-42e5-927d-1802ca831861' tool_call_id='79d3c70d-e4b3-48ba-bb90-5fb1f3d18914'\n",
      "====================================================================================================\n",
      "content='Средняя ставка по одобренным заявкам за последние полгода составила 16,75%.' additional_kwargs={'functions_state_id': '374e4d89-ac70-41d8-a3e6-a47e2d093a6b'} response_metadata={'token_usage': {'prompt_tokens': 262, 'completion_tokens': 22, 'total_tokens': 284}, 'model_name': 'GigaChat-Max:1.0.26.20', 'x_headers': {'x-request-id': 'fdd4aaf3-6342-45c5-bdc0-4674050930ae', 'x-session-id': '9d3042ba-6583-44c1-9613-84eede41e224', 'x-client-id': None}, 'finish_reason': 'stop'} name='supervisor' id='fdd4aaf3-6342-45c5-bdc0-4674050930ae'\n",
      "====================================================================================================\n"
     ]
    }
   ],
   "source": [
    "for i in result['messages']:\n",
    "    print(i)\n",
    "    print('='*100)"
   ]
  },
  {
   "cell_type": "code",
   "execution_count": null,
   "id": "550c4126-5de4-4857-aef3-df927eafa094",
   "metadata": {},
   "outputs": [],
   "source": []
  },
  {
   "cell_type": "code",
   "execution_count": null,
   "id": "ef84424d-950d-491c-977c-dadb030b1168",
   "metadata": {},
   "outputs": [],
   "source": []
  },
  {
   "cell_type": "code",
   "execution_count": null,
   "id": "6491911c-8d0d-4f20-acda-941bcbc16588",
   "metadata": {},
   "outputs": [],
   "source": []
  },
  {
   "cell_type": "code",
   "execution_count": null,
   "id": "2caeaad6-4718-495b-a52b-03b98b6357a2",
   "metadata": {},
   "outputs": [],
   "source": []
  },
  {
   "cell_type": "markdown",
   "id": "722f99da-a82f-4af5-921e-087855bcd3b7",
   "metadata": {},
   "source": [
    "### Добавляем память"
   ]
  },
  {
   "cell_type": "code",
   "execution_count": 75,
   "id": "a98a0dbd-8cd3-468c-83e9-dbed45170f14",
   "metadata": {},
   "outputs": [],
   "source": [
    "from langgraph.checkpoint.memory import InMemorySaver\n",
    "from langgraph.store.memory import InMemoryStore"
   ]
  },
  {
   "cell_type": "code",
   "execution_count": 76,
   "id": "650cc6b8-4bb9-4a78-96dd-f5427415c4fb",
   "metadata": {},
   "outputs": [],
   "source": [
    "checkpointer = InMemorySaver()\n",
    "# store = InMemoryStore()"
   ]
  },
  {
   "cell_type": "code",
   "execution_count": 90,
   "id": "7707dd94-8284-4194-a90c-5e4c152a7b7a",
   "metadata": {},
   "outputs": [],
   "source": [
    "config = {\"configurable\": {\"thread_id\": \"12\"}}"
   ]
  },
  {
   "cell_type": "code",
   "execution_count": null,
   "id": "97b9b2cd-8c18-4903-9738-3b8d28ed239e",
   "metadata": {},
   "outputs": [],
   "source": []
  },
  {
   "cell_type": "code",
   "execution_count": null,
   "id": "4233c56d-d954-4b7e-87ed-19a72bd23044",
   "metadata": {},
   "outputs": [],
   "source": []
  },
  {
   "cell_type": "code",
   "execution_count": 122,
   "id": "68b16147-4596-43c3-97b2-d67477945b42",
   "metadata": {},
   "outputs": [
    {
     "name": "stdout",
     "output_type": "stream",
     "text": [
      "++++++++++++++++++++++++++++++++++++++++++++++++++++++++++++++++++++++++++++++++++++++++++++++++++++\n",
      "Верни среднюю ставку по одобренным заявкам за последние пол года в разрезе по месяцам\n",
      "```sql\n",
      "SELECT \n",
      "    strftime('%Y-%m', application_dt) AS month, \n",
      "    AVG(interest_rate) AS average_interest_rate\n",
      "FROM \n",
      "    application\n",
      "JOIN \n",
      "    decision ON application.application_num = decision.application_num AND decision.decision = 1\n",
      "WHERE \n",
      "    application_dt >= date('now', '-6 months')\n",
      "GROUP BY \n",
      "    strftime('%Y-%m', application_dt);\n",
      "```\n",
      "[{'month': '2024-09', 'average_interest_rate': 11.986666666666666}, {'month': '2024-10', 'average_interest_rate': 15.425}, {'month': '2024-11', 'average_interest_rate': 18.23}, {'month': '2024-12', 'average_interest_rate': 11.97}, {'month': '2025-01', 'average_interest_rate': 16.754444444444445}, {'month': '2025-02', 'average_interest_rate': 20.583333333333332}]\n",
      "Средняя ставка по одобренным заявкам за последние полгода составляет 16,75%.\n",
      "++++++++++++++++++++++++++++++++++++++++++++++++++++++++++++++++++++++++++++++++++++++++++++++++++++\n",
      "Готово: Средняя ставка по одобренным заявкам за последние полгода составляет 16,75%.. Данные на которых получен ответ: [{'month': '2024-09', 'average_interest_rate': 11.986666666666666}, {'month': '2024-10', 'average_interest_rate': 15.425}, {'month': '2024-11', 'average_interest_rate': 18.23}, {'month': '2024-12', 'average_interest_rate': 11.97}, {'month': '2025-01', 'average_interest_rate': 16.754444444444445}, {'month': '2025-02', 'average_interest_rate': 20.583333333333332}]\n"
     ]
    }
   ],
   "source": [
    "app = workflow.compile(\n",
    "    checkpointer=checkpointer\n",
    ")\n",
    "\n",
    "result = app.invoke({\n",
    "    \"messages\": [\n",
    "        {\n",
    "            \"role\": \"user\",\n",
    "            \"content\": \"Верни среднюю ставку по одобренным заявкам за последние пол года в разрезе по месяцам\"\n",
    "            # \"content\": \"Проанализируй результаты и сделай выводы по одобренным заявкам\"\n",
    "        }\n",
    "    ]\n",
    "}, config=config)"
   ]
  },
  {
   "cell_type": "code",
   "execution_count": null,
   "id": "bedeac54-0c7c-452a-a61d-ae63b5683bef",
   "metadata": {},
   "outputs": [],
   "source": []
  },
  {
   "cell_type": "code",
   "execution_count": null,
   "id": "581f58b7-7311-4df7-a951-88e3f385557a",
   "metadata": {},
   "outputs": [],
   "source": []
  },
  {
   "cell_type": "code",
   "execution_count": 98,
   "id": "cbc2deb7-60f2-449b-8ea6-9db0d181ed20",
   "metadata": {},
   "outputs": [
    {
     "name": "stdout",
     "output_type": "stream",
     "text": [
      "Верни среднюю ставку по одобренным заявкам за последние 6 месяцев в разрезе по месяцам\n",
      "====================================================================================================\n",
      "\n",
      "====================================================================================================\n",
      "Successfully transferred to database_expert\n",
      "====================================================================================================\n",
      "Средняя ставка по одобренным заявкам за последние 6 месяцев составляет 16,75%.\n",
      "====================================================================================================\n",
      "Transferring back to supervisor\n",
      "====================================================================================================\n",
      "Successfully transferred back to supervisor\n",
      "====================================================================================================\n",
      "Средняя ставка по одобренным заявкам за последние 6 месяцев составляет 16,75% в разрезе по месяцам.\n",
      "====================================================================================================\n",
      "Верни среднюю ставку по одобренным заявкам за последние пол года в разрезе по месяцам\n",
      "====================================================================================================\n",
      "\n",
      "====================================================================================================\n",
      "Successfully transferred to database_expert\n",
      "====================================================================================================\n",
      "Средняя ставка по одобренным заявкам за последние полгода в разрезе по месяцам выглядит так: январь - 18%, февраль - 17%, март - 16%, апрель - 15%, май - 14%, июнь - 13%.\n",
      "====================================================================================================\n",
      "Transferring back to supervisor\n",
      "====================================================================================================\n",
      "Successfully transferred back to supervisor\n",
      "====================================================================================================\n",
      "Средняя ставка по одобренным заявкам за последние полгода в разрезе по месяцам выглядит так: январь - 18%, февраль - 17%, март - 16%, апрель - 15%, май - 14%, июнь - 13%.\n",
      "====================================================================================================\n",
      "Проанализируй результаты и сделай выводы по одобренным заявкам\n",
      "====================================================================================================\n",
      "\n",
      "====================================================================================================\n",
      "Successfully transferred to analyst_expert\n",
      "====================================================================================================\n",
      "Анализируя данные по средней ставке по одобренным заявкам за последние полгода, можно сделать следующие выводы:\n",
      "\n",
      "1. В течение всего рассматриваемого периода наблюдается тенденция к снижению средней ставки. Это может быть связано с изменением рыночных условий, снижением рисков или улучшением кредитного портфеля.\n",
      "\n",
      "2. Наибольшее снижение ставки произошло между мартом и апрелем, когда она уменьшилась на 1%. Это может указывать на сезонные колебания или изменение политики банка в отношении оценки заемщиков.\n",
      "\n",
      "3. Ставка в июне значительно ниже, чем в январе, что может свидетельствовать о более жестких условиях отбора заявок в начале года или об изменении стратегии банка в области кредитования.\n",
      "\n",
      "4. Несмотря на общую тенденцию к снижению, каждый месяц имеет свою специфику, которая требует дополнительного анализа для выявления причин таких изменений.\n",
      "====================================================================================================\n",
      "Transferring back to supervisor\n",
      "====================================================================================================\n",
      "Successfully transferred back to supervisor\n",
      "====================================================================================================\n",
      "Анализируя данные по средней ставке по одобренным заявкам за последние полгода, можно сделать следующие выводы:\n",
      "\n",
      "1. В течение всего рассматриваемого периода наблюдается тенденция к снижению средней ставки. Это может быть связано с изменением рыночных условий, снижением рисков или улучшением кредитного портфеля.\n",
      "\n",
      "2. Наибольшее снижение ставки произошло между мартом и апрелем, когда она уменьшилась на 1%. Это может указывать на сезонные колебания или изменение политики банка в отношении оценки заемщиков.\n",
      "\n",
      "3. Ставка в июне значительно ниже, чем в январе, что может свидетельствовать о более жестких условиях отбора заявок в начале года или об изменении стратегии банка в области кредитования.\n",
      "\n",
      "4. Несмотря на общую тенденцию к снижению, каждый месяц имеет свою специфику, которая требует дополнительного анализа для выявления причин таких изменений.\n",
      "====================================================================================================\n"
     ]
    }
   ],
   "source": [
    "for i in result['messages']:\n",
    "    print(i.content)\n",
    "    print('='*100)"
   ]
  },
  {
   "cell_type": "code",
   "execution_count": null,
   "id": "574944fe-419c-4f07-805f-ed7b35e02f1c",
   "metadata": {},
   "outputs": [],
   "source": []
  },
  {
   "cell_type": "code",
   "execution_count": null,
   "id": "d6f98fc1-91ce-496e-ab1d-ecf8ea1b62b5",
   "metadata": {},
   "outputs": [],
   "source": []
  },
  {
   "cell_type": "code",
   "execution_count": 121,
   "id": "67e33192-c4f0-437a-9b3f-d0ac5e393246",
   "metadata": {},
   "outputs": [
    {
     "name": "stdout",
     "output_type": "stream",
     "text": [
      "Анализируя данные по средней ставке по одобренным заявкам за последние полгода, можно сделать следующие выводы:\n",
      "\n",
      "1. В течение всего рассматриваемого периода наблюдается тенденция к снижению средней ставки. Это может быть связано с изменением рыночных условий, снижением рисков или улучшением кредитного портфеля.\n",
      "\n",
      "2. Наибольшее снижение ставки произошло между мартом и апрелем, когда она уменьшилась на 1%. Это может указывать на сезонные колебания или изменение политики банка в отношении оценки заемщиков.\n",
      "\n",
      "3. Ставка в июне значительно ниже, чем в январе, что может свидетельствовать о более жестких условиях отбора заявок в начале года или об изменении стратегии банка в области кредитования.\n",
      "\n",
      "4. Несмотря на общую тенденцию к снижению, каждый месяц имеет свою специфику, которая требует дополнительного анализа для выявления причин таких изменений.\n"
     ]
    }
   ],
   "source": [
    "print(result['messages'][-1].content)"
   ]
  },
  {
   "cell_type": "code",
   "execution_count": null,
   "id": "c15ffca4-3361-4ac4-af70-9f7ca6259cc2",
   "metadata": {},
   "outputs": [],
   "source": []
  },
  {
   "cell_type": "code",
   "execution_count": null,
   "id": "3821df38-d02b-4793-a679-83e3a932fc61",
   "metadata": {},
   "outputs": [],
   "source": []
  },
  {
   "cell_type": "code",
   "execution_count": null,
   "id": "f66fb2a5-b795-4ad8-85ff-11fa166fb952",
   "metadata": {},
   "outputs": [],
   "source": []
  },
  {
   "cell_type": "code",
   "execution_count": null,
   "id": "f182abb7-d189-4187-9c8e-9ca97daf3acf",
   "metadata": {},
   "outputs": [],
   "source": []
  },
  {
   "cell_type": "code",
   "execution_count": null,
   "id": "064a7cc4-be57-4ac2-b294-a51c8db5524d",
   "metadata": {},
   "outputs": [],
   "source": []
  },
  {
   "cell_type": "code",
   "execution_count": null,
   "id": "bc35a86b-b5b7-41cc-b22a-e7f7930b0e75",
   "metadata": {},
   "outputs": [],
   "source": []
  },
  {
   "cell_type": "code",
   "execution_count": null,
   "id": "228d215a-c60b-4a09-8b54-03743791a793",
   "metadata": {},
   "outputs": [],
   "source": []
  },
  {
   "cell_type": "markdown",
   "id": "e387010c-a6c4-4d05-ac2a-8b120aff5965",
   "metadata": {},
   "source": [
    "### Сохраняем локально файлы"
   ]
  },
  {
   "cell_type": "code",
   "execution_count": null,
   "id": "23d645b6-5215-4860-8738-fff4eafed2a5",
   "metadata": {},
   "outputs": [],
   "source": [
    "sql = '''SELECT \n",
    "    c.sex, \n",
    "    COUNT(*) AS total_applications, \n",
    "    SUM(d.decision) AS approved_applications, \n",
    "    ROUND(100.0 * SUM(d.decision) / COUNT(*), 2) AS approval_percentage\n",
    "FROM \n",
    "    client c\n",
    "JOIN \n",
    "    decision d ON c.application_num = d.application_num\n",
    "GROUP BY \n",
    "    c.sex;\n",
    "'''"
   ]
  },
  {
   "cell_type": "code",
   "execution_count": null,
   "id": "a32e69a6-e0ee-4322-9bf2-6e682233a578",
   "metadata": {},
   "outputs": [],
   "source": []
  },
  {
   "cell_type": "code",
   "execution_count": null,
   "id": "b61220c4-e46d-40e2-a25b-ad47ad1113e6",
   "metadata": {},
   "outputs": [],
   "source": []
  },
  {
   "cell_type": "code",
   "execution_count": null,
   "id": "3395b155-ecaa-430f-90ab-8d110a1248ff",
   "metadata": {},
   "outputs": [],
   "source": [
    "df = pd.read_sql_query(sql, conn)"
   ]
  },
  {
   "cell_type": "code",
   "execution_count": null,
   "id": "df9a6355-7aa9-4a40-bfdb-af8cc948ee7c",
   "metadata": {},
   "outputs": [],
   "source": [
    "aaa = df.to_json()"
   ]
  },
  {
   "cell_type": "code",
   "execution_count": null,
   "id": "5ee61e32-aaf0-428a-a37c-bf5241eb9717",
   "metadata": {},
   "outputs": [],
   "source": [
    "type(aaa)"
   ]
  },
  {
   "cell_type": "code",
   "execution_count": null,
   "id": "89b87f66-a28f-4a11-914b-9f11bd1e23de",
   "metadata": {},
   "outputs": [],
   "source": [
    "aaa"
   ]
  },
  {
   "cell_type": "code",
   "execution_count": null,
   "id": "dd1eb96b-725d-4de5-9b9d-2716bde95ed9",
   "metadata": {},
   "outputs": [],
   "source": [
    "print(df)"
   ]
  },
  {
   "cell_type": "code",
   "execution_count": null,
   "id": "4228f378-3283-4570-9fa8-8886d6024fa5",
   "metadata": {},
   "outputs": [],
   "source": [
    "print(df.to_string())"
   ]
  },
  {
   "cell_type": "code",
   "execution_count": null,
   "id": "e96824c9-bcde-4aa0-bc1d-794f849ddf03",
   "metadata": {},
   "outputs": [],
   "source": [
    "вот ответ\n",
    "```\n",
    "      sex  total_applications  approved_applications  approval_percentage\n",
    "0  female                 111                     57                51.35\n",
    "1    male                 105                     59                56.19\n",
    "```"
   ]
  },
  {
   "cell_type": "code",
   "execution_count": null,
   "id": "f1cdff9c-7c99-4705-943f-500af6356770",
   "metadata": {},
   "outputs": [],
   "source": []
  },
  {
   "cell_type": "code",
   "execution_count": null,
   "id": "8411ac06-82ae-4b7e-ae0a-beaefa38130e",
   "metadata": {},
   "outputs": [],
   "source": []
  },
  {
   "cell_type": "code",
   "execution_count": null,
   "id": "5460dce8-93d1-4065-af7a-80a0d7d77285",
   "metadata": {},
   "outputs": [],
   "source": []
  },
  {
   "cell_type": "markdown",
   "id": "59fa3f33-daea-49a0-a884-17a9c4a54bcf",
   "metadata": {},
   "source": [
    "### Агент для графиков"
   ]
  },
  {
   "cell_type": "code",
   "execution_count": null,
   "id": "008e4de0-09fe-4e50-87f8-69e996624a39",
   "metadata": {},
   "outputs": [],
   "source": [
    "from typing import Annotated\n",
    "\n",
    "from langchain_core.tools import tool\n",
    "from langchain_experimental.utilities import PythonREPL\n",
    "\n",
    "# Warning: This executes code locally, which can be unsafe when not sandboxed\n",
    "\n",
    "repl = PythonREPL()\n",
    "\n",
    "@tool\n",
    "def python_repl_tool(\n",
    "    code: Annotated[str, \"The python code to execute to generate your chart.\"],\n",
    "):\n",
    "    \"\"\"Use this to execute python code. If you want to see the output of a value,\n",
    "    you should print it out with `print(...)`. This is visible to the user.\"\"\"\n",
    "    try:\n",
    "        result = repl.run(code)\n",
    "    except BaseException as e:\n",
    "        return f\"Failed to execute. Error: {repr(e)}\"\n",
    "    result_str = f\"Successfully executed:\\n```python\\n{code}\\n```\\nStdout: {result}\"\n",
    "    return (\n",
    "        result_str + \"\\n\\nIf you have completed all tasks, respond with FINAL ANSWER.\"\n",
    "    )\n"
   ]
  },
  {
   "cell_type": "code",
   "execution_count": null,
   "id": "e461259e-e29a-4bda-8014-ddd6351f33ac",
   "metadata": {},
   "outputs": [],
   "source": [
    "chart_agent = create_react_agent(\n",
    "    model_max,\n",
    "    [python_repl_tool],\n",
    "    prompt=\"Ты - великолепный агент, который умеет только строить графики. На основе полученного задания напиши python код, выполни и отрисуй график\"\n",
    ")"
   ]
  },
  {
   "cell_type": "code",
   "execution_count": null,
   "id": "b89ea574-c9f4-4b72-9d72-02ac028f06ca",
   "metadata": {},
   "outputs": [],
   "source": []
  },
  {
   "cell_type": "code",
   "execution_count": null,
   "id": "20310566-4309-4ad8-ab99-a3107d8eac95",
   "metadata": {},
   "outputs": [],
   "source": [
    "chart_agent.invoke({\n",
    "    \"messages\": [\n",
    "        {\n",
    "            \"role\": \"user\",\n",
    "            \"content\": \"Построй график - на оси x значения [1, 2, 3], на оси y - [3, 4, 2]\"\n",
    "        }\n",
    "    ]\n",
    "})"
   ]
  },
  {
   "cell_type": "code",
   "execution_count": null,
   "id": "ca3b3b56-2054-401e-beb6-0239216fefd9",
   "metadata": {},
   "outputs": [],
   "source": []
  },
  {
   "cell_type": "code",
   "execution_count": null,
   "id": "79fc056a-d750-417f-b08e-855f5cc599e5",
   "metadata": {},
   "outputs": [],
   "source": []
  },
  {
   "cell_type": "code",
   "execution_count": null,
   "id": "1552adff-2d1d-4852-9002-7933760a6e18",
   "metadata": {},
   "outputs": [],
   "source": []
  },
  {
   "cell_type": "code",
   "execution_count": null,
   "id": "790f9702-c4c2-4cd8-a766-908745e63b76",
   "metadata": {},
   "outputs": [],
   "source": []
  },
  {
   "cell_type": "code",
   "execution_count": null,
   "id": "54dea055-c46c-4b02-8672-dc565309d776",
   "metadata": {},
   "outputs": [],
   "source": []
  },
  {
   "cell_type": "code",
   "execution_count": null,
   "id": "e06147d0-9374-442f-a9d5-b9efcd231aac",
   "metadata": {},
   "outputs": [],
   "source": []
  },
  {
   "cell_type": "code",
   "execution_count": null,
   "id": "4491dc81-3f22-4639-a241-e19ac2521da8",
   "metadata": {},
   "outputs": [],
   "source": []
  },
  {
   "cell_type": "code",
   "execution_count": 109,
   "id": "fbc08e5d-b9a1-4b18-be7a-488e6ef5f4e9",
   "metadata": {},
   "outputs": [],
   "source": [
    "import logging"
   ]
  },
  {
   "cell_type": "code",
   "execution_count": 110,
   "id": "ef904373-8982-4b97-bb04-1fac1d9fc5a0",
   "metadata": {},
   "outputs": [],
   "source": [
    "logging.addLevelName('agent', 15)"
   ]
  },
  {
   "cell_type": "code",
   "execution_count": 111,
   "id": "c652fac6-ad99-4655-9d83-d02f5806a125",
   "metadata": {},
   "outputs": [],
   "source": [
    "my_logger = logging.getLogger('agent')"
   ]
  },
  {
   "cell_type": "code",
   "execution_count": 112,
   "id": "23534724-83f8-4a7f-ae05-f5a03d31a239",
   "metadata": {},
   "outputs": [],
   "source": [
    "my_logger.info('привет2')"
   ]
  },
  {
   "cell_type": "code",
   "execution_count": 113,
   "id": "d05641b4-7ce0-4a2a-827b-eaab14b21d69",
   "metadata": {},
   "outputs": [],
   "source": [
    "my_logger.info('привет3')"
   ]
  },
  {
   "cell_type": "code",
   "execution_count": null,
   "id": "7e0011c4-f845-4018-bc3f-1375fa43d01e",
   "metadata": {},
   "outputs": [],
   "source": []
  },
  {
   "cell_type": "code",
   "execution_count": null,
   "id": "13590029-649a-4f6a-986c-57d4a72385c8",
   "metadata": {},
   "outputs": [],
   "source": []
  },
  {
   "cell_type": "code",
   "execution_count": null,
   "id": "b0a46f24-8d12-4bfe-98e6-a52506735897",
   "metadata": {},
   "outputs": [],
   "source": []
  },
  {
   "cell_type": "code",
   "execution_count": null,
   "id": "c1e3a984-e718-4810-8356-f6114f59d16b",
   "metadata": {},
   "outputs": [],
   "source": []
  }
 ],
 "metadata": {
  "kernelspec": {
   "display_name": "Python 3 (ipykernel)",
   "language": "python",
   "name": "python3"
  },
  "language_info": {
   "codemirror_mode": {
    "name": "ipython",
    "version": 3
   },
   "file_extension": ".py",
   "mimetype": "text/x-python",
   "name": "python",
   "nbconvert_exporter": "python",
   "pygments_lexer": "ipython3",
   "version": "3.12.3"
  }
 },
 "nbformat": 4,
 "nbformat_minor": 5
}
