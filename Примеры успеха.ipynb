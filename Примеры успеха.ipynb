{
 "cells": [
  {
   "cell_type": "markdown",
   "id": "95e30d0f-0993-4c01-83bb-e94870c50305",
   "metadata": {},
   "source": [
    "# Примеры успешных взаимодействий с AI помощником:"
   ]
  },
  {
   "cell_type": "code",
   "execution_count": null,
   "id": "d4be2738-4df7-4ad0-9fa9-ff0b3c262f77",
   "metadata": {},
   "outputs": [],
   "source": []
  },
  {
   "cell_type": "markdown",
   "id": "67ba879e-ab5e-41d2-bd46-b3f144559516",
   "metadata": {},
   "source": [
    "**Пользователь**:  Какой средний процент по одобренным ипотекам за последние пол года? Приведи ответ в разрезе по месяцам\n",
    "\n",
    "**AI помощник**:  Средний процент по одобренным ипотекам за последние полгода составил:\n",
    "- сентябрь 2024 года – 11.99%\n",
    "- октябрь 2024 года – 15.43%\n",
    "- ноябрь 2024 года – 18.23%\n",
    "- декабрь 2024 года – 11.97%\n",
    "- январь 2025 года – 16.75%\n",
    "- февраль 2025 года – 20.58%.\n",
    "\n",
    "**Пользователь**:  сделай выводы по полученным данным\n",
    "\n",
    "**AI помощник**:  Анализируя средние проценты по одобренным ипотекам за последние полгода, можно заметить значительные колебания в значениях. В сентябре и декабре 2024 года наблюдаются самые низкие показатели - около 11.9%, тогда как в остальные месяцы ставки значительно выше, достигая максимума в феврале 2025 года с 20.58%. Это может свидетельствовать о нестабильности финансового рынка и изменении политики банков в области кредитования."
   ]
  },
  {
   "cell_type": "code",
   "execution_count": null,
   "id": "6337ffb7-2bd5-405c-8668-435e4c598dab",
   "metadata": {},
   "outputs": [
    {
     "name": "stdin",
     "output_type": "stream",
     "text": [
      "Пользователь:  Какой средний процент по одобренным ипотекам за последние пол года? Приведи ответ в разрезе по месяцам\n"
     ]
    },
    {
     "name": "stdout",
     "output_type": "stream",
     "text": [
      "++++++++++++++++++++++++++++++++++++++++++++++++++++++++++++++++++++++++++++++++++++++++++++++++++++\n",
      "Какой средний процент по одобренным ипотекам за последние пол года? Приведи ответ в разрезе по месяцам\n",
      "```sql\n",
      "SELECT \n",
      "    STRFTIME('%Y-%m', application_dt) AS month_year, \n",
      "    AVG(interest_rate) AS average_interest_rate\n",
      "FROM \n",
      "    application\n",
      "JOIN \n",
      "    decision ON application.application_num = decision.application_num AND decision.decision = 1\n",
      "WHERE \n",
      "    application_dt >= DATE('now', '-6 months')\n",
      "GROUP BY \n",
      "    STRFTIME('%Y-%m', application_dt);\n",
      "```\n",
      "[{'month_year': '2024-09', 'average_interest_rate': 11.986666666666666}, {'month_year': '2024-10', 'average_interest_rate': 15.425}, {'month_year': '2024-11', 'average_interest_rate': 18.23}, {'month_year': '2024-12', 'average_interest_rate': 11.97}, {'month_year': '2025-01', 'average_interest_rate': 16.754444444444445}, {'month_year': '2025-02', 'average_interest_rate': 20.583333333333332}]\n",
      "Средний процент по одобренным ипотекам за последние полгода составил:\n",
      "\n",
      "- сентябрь 2024 года – 11.99%\n",
      "- октябрь 2024 года – 15.43%\n",
      "- ноябрь 2024 года – 18.23%\n",
      "- декабрь 2024 года – 11.97%\n",
      "- январь 2025 года – 16.75%\n",
      "- февраль 2025 года – 20.58%\n",
      "++++++++++++++++++++++++++++++++++++++++++++++++++++++++++++++++++++++++++++++++++++++++++++++++++++\n",
      "Готово: Средний процент по одобренным ипотекам за последние полгода составил:\n",
      "\n",
      "- сентябрь 2024 года – 11.99%\n",
      "- октябрь 2024 года – 15.43%\n",
      "- ноябрь 2024 года – 18.23%\n",
      "- декабрь 2024 года – 11.97%\n",
      "- январь 2025 года – 16.75%\n",
      "- февраль 2025 года – 20.58%. Данные на которых получен ответ: [{'month_year': '2024-09', 'average_interest_rate': 11.986666666666666}, {'month_year': '2024-10', 'average_interest_rate': 15.425}, {'month_year': '2024-11', 'average_interest_rate': 18.23}, {'month_year': '2024-12', 'average_interest_rate': 11.97}, {'month_year': '2025-01', 'average_interest_rate': 16.754444444444445}, {'month_year': '2025-02', 'average_interest_rate': 20.583333333333332}]\n",
      "AI помощник:  Средний процент по одобренным ипотекам за последние полгода составил:\n",
      "- сентябрь 2024 года – 11.99%\n",
      "- октябрь 2024 года – 15.43%\n",
      "- ноябрь 2024 года – 18.23%\n",
      "- декабрь 2024 года – 11.97%\n",
      "- январь 2025 года – 16.75%\n",
      "- февраль 2025 года – 20.58%.\n"
     ]
    },
    {
     "name": "stdin",
     "output_type": "stream",
     "text": [
      "Пользователь:  сделай выводы по полученным данным\n"
     ]
    },
    {
     "name": "stdout",
     "output_type": "stream",
     "text": [
      "AI помощник:  Анализируя средние проценты по одобренным ипотекам за последние полгода, можно заметить значительные колебания в значениях. В сентябре и декабре 2024 года наблюдаются самые низкие показатели - около 11.9%, тогда как в остальные месяцы ставки значительно выше, достигая максимума в феврале 2025 года с 20.58%. Это может свидетельствовать о нестабильности финансового рынка и изменении политики банков в области кредитования.\n"
     ]
    }
   ],
   "source": [
    "from agents2 import call_bot\n",
    "from random import randint\n",
    "thread_id = str(randint(0, 1000000000))\n",
    "\n",
    "while(True):\n",
    "    user_input = input(\"Пользователь: \")\n",
    "    if user_input == \"пока\":\n",
    "        break    \n",
    "    response = call_bot(user_input, thread_id)\n",
    "    print(\"AI помощник: \", response['messages'][-1].content)"
   ]
  },
  {
   "cell_type": "code",
   "execution_count": null,
   "id": "b02e6d36-d87b-4f32-84cd-8511dc0942c3",
   "metadata": {},
   "outputs": [],
   "source": []
  },
  {
   "cell_type": "markdown",
   "id": "021a779e-4b9a-4804-b871-508cd079bc8a",
   "metadata": {},
   "source": [
    "***Тут любопытно, что БД агенту хватило небольшого описания в промпте \"Клиенты с client_num=0 - основные заемщики. 1, 2 и т.д. - созаемщики\"***\n",
    "\n",
    "**Пользователь**:  Какой процент одобрения кредитов для мужчин и женщин? Учитывый только **основных заемщиков**\n",
    "\n",
    "**AI помощник**:  Процент одобрения кредитов для женщин составляет 49.06%, а для мужчин - 55.32%."
   ]
  },
  {
   "cell_type": "code",
   "execution_count": 16,
   "id": "d5ae56da-f537-4556-9fbb-151fe3663ed9",
   "metadata": {},
   "outputs": [
    {
     "name": "stdin",
     "output_type": "stream",
     "text": [
      "Пользователь:  Какой процент одобрения кредитов для мужчин и женщин? Учитывый только основных заемщиков\n"
     ]
    },
    {
     "name": "stdout",
     "output_type": "stream",
     "text": [
      "++++++++++++++++++++++++++++++++++++++++++++++++++++++++++++++++++++++++++++++++++++++++++++++++++++\n",
      "Какой процент одобрения кредитов для мужчин и женщин? Учитывьте только основных заемщиков\n",
      "```sql\n",
      "SELECT \n",
      "    c.sex, \n",
      "    COUNT(*) AS total_applications, \n",
      "    SUM(d.decision) AS approved_applications, \n",
      "    ROUND(100.0 * SUM(d.decision) / COUNT(*), 2) AS approval_percentage\n",
      "FROM \n",
      "    client c\n",
      "JOIN \n",
      "    decision d ON c.application_num = d.application_num\n",
      "WHERE \n",
      "    c.client_num = 0\n",
      "GROUP BY \n",
      "    c.sex;\n",
      "```\n",
      "[{'sex': 'female', 'total_applications': 53, 'approved_applications': 26, 'approval_percentage': 49.06}, {'sex': 'male', 'total_applications': 47, 'approved_applications': 26, 'approval_percentage': 55.32}]\n",
      "Исходя из предоставленных данных, процент одобрения кредитов для женщин составляет **49.06%**, а для мужчин – **55.32%**.\n",
      "++++++++++++++++++++++++++++++++++++++++++++++++++++++++++++++++++++++++++++++++++++++++++++++++++++\n",
      "Готово: Исходя из предоставленных данных, процент одобрения кредитов для женщин составляет **49.06%**, а для мужчин – **55.32%**.. Данные на которых получен ответ: [{'sex': 'female', 'total_applications': 53, 'approved_applications': 26, 'approval_percentage': 49.06}, {'sex': 'male', 'total_applications': 47, 'approved_applications': 26, 'approval_percentage': 55.32}]\n",
      "AI помощник:  Процент одобрения кредитов для женщин составляет 49.06%, а для мужчин - 55.32%.\n"
     ]
    },
    {
     "name": "stdin",
     "output_type": "stream",
     "text": [
      "Пользователь:  пока\n"
     ]
    }
   ],
   "source": [
    "from agents2 import call_bot\n",
    "from random import randint\n",
    "thread_id = str(randint(0, 1000000000))\n",
    "\n",
    "while(True):\n",
    "    user_input = input(\"Пользователь: \")\n",
    "    if user_input == \"пока\":\n",
    "        break    \n",
    "    response = call_bot(user_input, thread_id)\n",
    "    print(\"AI помощник: \", response['messages'][-1].content)"
   ]
  },
  {
   "cell_type": "code",
   "execution_count": null,
   "id": "bc13e037-ac46-4ed3-a51c-c43d224f24e9",
   "metadata": {},
   "outputs": [],
   "source": []
  },
  {
   "cell_type": "markdown",
   "id": "676c11fc-760c-4936-abac-6c5f7f1e65ac",
   "metadata": {},
   "source": [
    "**Пользователь**:  Какая доля клиентов была одобрена за все время с PTI > 0,1?\n",
    "\n",
    "**AI помощник**:  Около 37% клиентов были одобрены при условии, что их показатель PTI (отношение обязательных платежей к доходу) был больше 0,1.\n"
   ]
  },
  {
   "cell_type": "code",
   "execution_count": 3,
   "id": "2e4b9683-d5bf-4313-8f7f-1897f8de99be",
   "metadata": {},
   "outputs": [
    {
     "name": "stdin",
     "output_type": "stream",
     "text": [
      "Пользователь:  Какая доля клиентов была одобрена за все время с PTI > 0,1?\n"
     ]
    },
    {
     "name": "stdout",
     "output_type": "stream",
     "text": [
      "++++++++++++++++++++++++++++++++++++++++++++++++++++++++++++++++++++++++++++++++++++++++++++++++++++\n",
      "Какая доля клиентов была одобрена за все время с PTI > 0,1?\n",
      "```sql\n",
      "SELECT COUNT(CASE WHEN d.decision = 1 THEN 1 END) * 1.0 / COUNT(*) AS approval_rate\n",
      "FROM application a\n",
      "JOIN decision d ON a.application_num = d.application_num\n",
      "WHERE (a.liability + a.payment) / a.income > 0.1;\n",
      "```\n",
      "[{'approval_rate': 0.3684210526315789}]\n",
      "Около 37% клиентов были одобрены при условии, что их показатель PTI (отношение обязательных платежей к доходу) был больше 0,1.\n",
      "++++++++++++++++++++++++++++++++++++++++++++++++++++++++++++++++++++++++++++++++++++++++++++++++++++\n",
      "Готово: Около 37% клиентов были одобрены при условии, что их показатель PTI (отношение обязательных платежей к доходу) был больше 0,1.. Данные на которых получен ответ: [{'approval_rate': 0.3684210526315789}]\n",
      "AI помощник:  Около 37% клиентов были одобрены при условии, что их показатель PTI (отношение обязательных платежей к доходу) был больше 0,1.\n"
     ]
    },
    {
     "name": "stdin",
     "output_type": "stream",
     "text": [
      "Пользователь:  пока\n"
     ]
    }
   ],
   "source": [
    "from agents2 import call_bot\n",
    "from random import randint\n",
    "thread_id = str(randint(0, 1000000000))\n",
    "\n",
    "while(True):\n",
    "    user_input = input(\"Пользователь: \")\n",
    "    if user_input == \"пока\":\n",
    "        break    \n",
    "    response = call_bot(user_input, thread_id)\n",
    "    print(\"AI помощник: \", response['messages'][-1].content)"
   ]
  },
  {
   "cell_type": "code",
   "execution_count": null,
   "id": "d3cb4b97-1580-4ccd-af16-4efc945f0638",
   "metadata": {},
   "outputs": [],
   "source": []
  },
  {
   "cell_type": "markdown",
   "id": "4ba38187-b804-4d9a-ac5c-199b3cec2bc4",
   "metadata": {},
   "source": [
    "**Пользователь**:  Как изменялась средняя запрошенная сумма в первичной ипотеке за последний месяц?\n",
    "\n",
    "**AI помощник**:  Средняя запрошенная сумма в первичной ипотеке за последний месяц увеличилась на 549082.67 рублей по сравнению с предыдущим месяцем."
   ]
  },
  {
   "cell_type": "code",
   "execution_count": 4,
   "id": "79650c4f-89c2-46b5-8332-ac871048d57e",
   "metadata": {},
   "outputs": [
    {
     "name": "stdin",
     "output_type": "stream",
     "text": [
      "Пользователь:  Как изменялась средняя запрошенная сумма в первичной ипотеке за последний месяц?\n"
     ]
    },
    {
     "name": "stdout",
     "output_type": "stream",
     "text": [
      "++++++++++++++++++++++++++++++++++++++++++++++++++++++++++++++++++++++++++++++++++++++++++++++++++++\n",
      "Как изменялась средняя запрошенная сумма в первичной ипотеке за последний месяц?\n",
      "```sql\n",
      "SELECT \n",
      "    strftime('%Y-%m', application_dt) AS month_year, \n",
      "    AVG(requested_sum) AS average_requested_sum\n",
      "FROM \n",
      "    application\n",
      "WHERE \n",
      "    subproduct_code IN (SELECT subproduct_code FROM subproduct WHERE product_code = 10)\n",
      "GROUP BY \n",
      "    strftime('%Y-%m', application_dt);\n",
      "```\n",
      "[{'month_year': '2024-03', 'average_requested_sum': 310708.0}, {'month_year': '2024-04', 'average_requested_sum': 549082.6666666666}, {'month_year': '2024-05', 'average_requested_sum': 578904.25}, {'month_year': '2024-06', 'average_requested_sum': 657952.0}, {'month_year': '2024-07', 'average_requested_sum': 748178.5}, {'month_year': '2024-08', 'average_requested_sum': 599075.75}, {'month_year': '2024-09', 'average_requested_sum': 528525.2}, {'month_year': '2024-10', 'average_requested_sum': 512467.0}, {'month_year': '2024-11', 'average_requested_sum': 623975.3333333334}, {'month_year': '2024-12', 'average_requested_sum': 458750.0}, {'month_year': '2025-01', 'average_requested_sum': 440812.71428571426}, {'month_year': '2025-02', 'average_requested_sum': 851709.0}]\n",
      "Средняя запрошенная сумма в первичной ипотеке за последний месяц увеличилась на 549082.67 рублей по сравнению с предыдущим месяцем.\n",
      "++++++++++++++++++++++++++++++++++++++++++++++++++++++++++++++++++++++++++++++++++++++++++++++++++++\n",
      "Готово: Средняя запрошенная сумма в первичной ипотеке за последний месяц увеличилась на 549082.67 рублей по сравнению с предыдущим месяцем.. Данные на которых получен ответ: [{'month_year': '2024-03', 'average_requested_sum': 310708.0}, {'month_year': '2024-04', 'average_requested_sum': 549082.6666666666}, {'month_year': '2024-05', 'average_requested_sum': 578904.25}, {'month_year': '2024-06', 'average_requested_sum': 657952.0}, {'month_year': '2024-07', 'average_requested_sum': 748178.5}, {'month_year': '2024-08', 'average_requested_sum': 599075.75}, {'month_year': '2024-09', 'average_requested_sum': 528525.2}, {'month_year': '2024-10', 'average_requested_sum': 512467.0}, {'month_year': '2024-11', 'average_requested_sum': 623975.3333333334}, {'month_year': '2024-12', 'average_requested_sum': 458750.0}, {'month_year': '2025-01', 'average_requested_sum': 440812.71428571426}, {'month_year': '2025-02', 'average_requested_sum': 851709.0}]\n",
      "AI помощник:  Средняя запрошенная сумма в первичной ипотеке за последний месяц увеличилась на 549082.67 рублей по сравнению с предыдущим месяцем.\n"
     ]
    },
    {
     "name": "stdin",
     "output_type": "stream",
     "text": [
      "Пользователь:  пока\n"
     ]
    }
   ],
   "source": [
    "from agents2 import call_bot\n",
    "from random import randint\n",
    "thread_id = str(randint(0, 1000000000))\n",
    "\n",
    "while(True):\n",
    "    user_input = input(\"Пользователь: \")\n",
    "    if user_input == \"пока\":\n",
    "        break    \n",
    "    response = call_bot(user_input, thread_id)\n",
    "    print(\"AI помощник: \", response['messages'][-1].content)"
   ]
  },
  {
   "cell_type": "code",
   "execution_count": null,
   "id": "0526c3b8-cd56-4ea8-9460-08189a9bd395",
   "metadata": {},
   "outputs": [],
   "source": []
  },
  {
   "cell_type": "markdown",
   "id": "3d1811a1-d403-4bb0-823e-0a3065fa3ea3",
   "metadata": {},
   "source": [
    "**Пользователь**:  В каком ипотечном продукте самый высокий AR за 2024?\n",
    "\n",
    "**AI помощник**:  Ипотечный продукт с самым высоким уровнем одобрения (AR) за 2024 год - это \"Вторичная недвижимость\", где AR составил 55,56%."
   ]
  },
  {
   "cell_type": "code",
   "execution_count": 15,
   "id": "b555ab3b-df1e-44b8-a808-e64703e4c728",
   "metadata": {},
   "outputs": [
    {
     "name": "stdin",
     "output_type": "stream",
     "text": [
      "Пользователь:  В каком ипотечном продукте самый высокий AR за 2024?\n"
     ]
    },
    {
     "name": "stdout",
     "output_type": "stream",
     "text": [
      "++++++++++++++++++++++++++++++++++++++++++++++++++++++++++++++++++++++++++++++++++++++++++++++++++++\n",
      "В каком ипотечном продукте самый высокий AR за 2024?\n",
      "```sql\n",
      "SELECT p.product_name, COUNT(*) AS total_applications, SUM(d.decision) AS approved_applications, ROUND(SUM(d.decision) * 100.0 / COUNT(*), 2) AS approval_rate\n",
      "FROM application a\n",
      "JOIN decision d ON a.application_num = d.application_num\n",
      "JOIN subproduct s ON a.subproduct_code = s.subproduct_code\n",
      "JOIN product p ON s.product_code = p.product_code\n",
      "WHERE STRFTIME('%Y', a.application_dt) = '2024'\n",
      "GROUP BY p.product_name\n",
      "ORDER BY approval_rate DESC\n",
      "LIMIT 1;\n",
      "```\n",
      "[{'product_name': 'Вторичная недвижимость', 'total_applications': 18, 'approved_applications': 10, 'approval_rate': 55.56}]\n",
      "Самый высокий уровень одобрения (AR) за 2024 год был у ипотечного продукта \"Вторичная недвижимость\" и составил 55,56%.\n",
      "++++++++++++++++++++++++++++++++++++++++++++++++++++++++++++++++++++++++++++++++++++++++++++++++++++\n",
      "Готово: Самый высокий уровень одобрения (AR) за 2024 год был у ипотечного продукта \"Вторичная недвижимость\" и составил 55,56%.. Данные на которых получен ответ: [{'product_name': 'Вторичная недвижимость', 'total_applications': 18, 'approved_applications': 10, 'approval_rate': 55.56}]\n",
      "AI помощник:  Ипотечный продукт с самым высоким уровнем одобрения (AR) за 2024 год - это \"Вторичная недвижимость\", где AR составил 55,56%.\n"
     ]
    },
    {
     "name": "stdin",
     "output_type": "stream",
     "text": [
      "Пользователь:  пока\n"
     ]
    }
   ],
   "source": [
    "from agents2 import call_bot\n",
    "from random import randint\n",
    "thread_id = str(randint(0, 1000000000))\n",
    "\n",
    "while(True):\n",
    "    user_input = input(\"Пользователь: \")\n",
    "    if user_input == \"пока\":\n",
    "        break    \n",
    "    response = call_bot(user_input, thread_id)\n",
    "    print(\"AI помощник: \", response['messages'][-1].content)"
   ]
  },
  {
   "cell_type": "code",
   "execution_count": null,
   "id": "a8001034-046a-4d56-9385-97d781cf0690",
   "metadata": {},
   "outputs": [],
   "source": []
  },
  {
   "cell_type": "code",
   "execution_count": null,
   "id": "87bec8de-d267-4321-adab-c543e1b04e3d",
   "metadata": {},
   "outputs": [],
   "source": []
  },
  {
   "cell_type": "code",
   "execution_count": null,
   "id": "e4f3019b-264a-4c46-87a7-02ad7095a173",
   "metadata": {},
   "outputs": [],
   "source": []
  },
  {
   "cell_type": "markdown",
   "id": "aac313e1-727d-464e-8f58-f6f796a49c82",
   "metadata": {},
   "source": [
    "### Тут можно проверить корректность запроса к БД и ответа, введя sql запрос"
   ]
  },
  {
   "cell_type": "code",
   "execution_count": 18,
   "id": "fdf258d5-2dbc-419d-bb62-9fa2481dd81c",
   "metadata": {},
   "outputs": [
    {
     "data": {
      "text/html": [
       "<div>\n",
       "<style scoped>\n",
       "    .dataframe tbody tr th:only-of-type {\n",
       "        vertical-align: middle;\n",
       "    }\n",
       "\n",
       "    .dataframe tbody tr th {\n",
       "        vertical-align: top;\n",
       "    }\n",
       "\n",
       "    .dataframe thead th {\n",
       "        text-align: right;\n",
       "    }\n",
       "</style>\n",
       "<table border=\"1\" class=\"dataframe\">\n",
       "  <thead>\n",
       "    <tr style=\"text-align: right;\">\n",
       "      <th></th>\n",
       "      <th>product_name</th>\n",
       "      <th>total_applications</th>\n",
       "      <th>approved_applications</th>\n",
       "      <th>approval_rate</th>\n",
       "    </tr>\n",
       "  </thead>\n",
       "  <tbody>\n",
       "    <tr>\n",
       "      <th>0</th>\n",
       "      <td>Вторичная недвижимость</td>\n",
       "      <td>18</td>\n",
       "      <td>10</td>\n",
       "      <td>55.56</td>\n",
       "    </tr>\n",
       "  </tbody>\n",
       "</table>\n",
       "</div>"
      ],
      "text/plain": [
       "             product_name  total_applications  approved_applications  \\\n",
       "0  Вторичная недвижимость                  18                     10   \n",
       "\n",
       "   approval_rate  \n",
       "0          55.56  "
      ]
     },
     "execution_count": 18,
     "metadata": {},
     "output_type": "execute_result"
    }
   ],
   "source": [
    "sql_select = '''\n",
    "SELECT p.product_name, COUNT(*) AS total_applications, SUM(d.decision) AS approved_applications, ROUND(SUM(d.decision) * 100.0 / COUNT(*), 2) AS approval_rate\n",
    "FROM application a\n",
    "JOIN decision d ON a.application_num = d.application_num\n",
    "JOIN subproduct s ON a.subproduct_code = s.subproduct_code\n",
    "JOIN product p ON s.product_code = p.product_code\n",
    "WHERE STRFTIME('%Y', a.application_dt) = '2024'\n",
    "GROUP BY p.product_name\n",
    "ORDER BY approval_rate DESC\n",
    "LIMIT 1;\n",
    "'''\n",
    "\n",
    "db_path = 'db_mortgage_backup.db'\n",
    "import sqlite3\n",
    "import pandas as pd\n",
    "conn2 = sqlite3.connect(db_path)\n",
    "cur = conn2.cursor()\n",
    "pd_read_sql_query = (pd.read_sql_query(sql_select, conn2))\n",
    "conn2.close()\n",
    "pd_read_sql_query"
   ]
  },
  {
   "cell_type": "code",
   "execution_count": null,
   "id": "d0f6dc7c-358a-409f-a813-68060b657613",
   "metadata": {},
   "outputs": [],
   "source": []
  }
 ],
 "metadata": {
  "kernelspec": {
   "display_name": "Python 3 (ipykernel)",
   "language": "python",
   "name": "python3"
  },
  "language_info": {
   "codemirror_mode": {
    "name": "ipython",
    "version": 3
   },
   "file_extension": ".py",
   "mimetype": "text/x-python",
   "name": "python",
   "nbconvert_exporter": "python",
   "pygments_lexer": "ipython3",
   "version": "3.12.3"
  }
 },
 "nbformat": 4,
 "nbformat_minor": 5
}
